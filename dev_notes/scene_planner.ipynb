{
 "cells": [
  {
   "cell_type": "code",
   "execution_count": 1,
   "id": "c1d777dc",
   "metadata": {},
   "outputs": [
    {
     "data": {
      "text/plain": [
       "True"
      ]
     },
     "execution_count": 1,
     "metadata": {},
     "output_type": "execute_result"
    }
   ],
   "source": [
    "from dotenv import load_dotenv, find_dotenv\n",
    "load_dotenv(find_dotenv())"
   ]
  },
  {
   "cell_type": "markdown",
   "id": "6723ddb4",
   "metadata": {},
   "source": [
    "# Sample"
   ]
  },
  {
   "cell_type": "code",
   "execution_count": 1,
   "id": "c94eab46",
   "metadata": {},
   "outputs": [],
   "source": [
    "outline_ = {\n",
    "  \"slides\": [\n",
    "    {\n",
    "      \"slide_number\": 1,\n",
    "      \"title\": \"AI in Marketing: The Future is Now\",\n",
    "      \"content\": \"- Why AI matters in marketing\\n- Setting the stage for transformation\",\n",
    "      \"transcript\": \"Welcome to 'AI in Marketing: The Future is Now'. In this opening slide, we set the stage for exploring how artificial intelligence is not just a tool but a transformative force in the marketing industry. We will discuss why AI matters, the rapid pace of innovation, and how it is reshaping customer engagement.\"\n",
    "    },\n",
    "    {\n",
    "      \"slide_number\": 2,\n",
    "      \"title\": \"What is AI in Marketing?\",\n",
    "      \"content\": \"- Definition\\n- Scope of use in marketing\",\n",
    "      \"transcript\": \"Artificial Intelligence in marketing refers to the use of machine learning algorithms and data-driven models to automate decisions, personalize customer experiences, and optimize marketing campaigns. It encompasses everything from recommendation engines to chatbots, targeting strategies, and predictive analytics.\"\n",
    "    },\n",
    "    {\n",
    "      \"slide_number\": 3,\n",
    "      \"title\": \"Five-Step Customer Journey\",\n",
    "      \"content\": \"- Awareness\\n- Consideration\\n- Conversion\\n- Retention\\n- Advocacy\",\n",
    "      \"transcript\": \"The customer journey can be broken down into five essential stages. Awareness is where potential customers first learn about your brand. Consideration is when they start evaluating your product or service. Conversion is the moment they decide to buy. Retention focuses on keeping customers engaged and satisfied. Advocacy is when customers promote your brand to others. AI can enhance each stage through personalized touchpoints.\"\n",
    "    },\n",
    "    {\n",
    "      \"slide_number\": 4,\n",
    "      \"title\": \"AI Tools: A Comparison\",\n",
    "      \"content\": \"- Tool A: High accuracy, higher cost\\n- Tool B: Moderate accuracy, affordable\",\n",
    "      \"transcript\": \"Let's compare two AI marketing tools. Tool A offers high accuracy in targeting and recommendations but comes at a significantly higher cost. Tool B is more affordable, with moderate accuracy and fewer advanced features. Choosing the right tool depends on your budget, marketing goals, and the complexity of your campaigns.\"\n",
    "    },\n",
    "    {\n",
    "      \"slide_number\": 5,\n",
    "      \"title\": \"Real-World Success Stories\",\n",
    "      \"content\": \"- Retail: Personalized shopping experiences\\n- Hospitality: Dynamic pricing models\",\n",
    "      \"transcript\": \"In retail, companies like Amazon have successfully used AI to deliver highly personalized shopping experiences, recommending products based on browsing and purchase history. In the hospitality industry, AI-driven dynamic pricing models help hotels and airlines optimize rates in real-time, maximizing revenue while maintaining competitive pricing.\"\n",
    "    },\n",
    "    {\n",
    "      \"slide_number\": 6,\n",
    "      \"title\": \"Benefits of AI in Marketing\",\n",
    "      \"content\": \"- Efficiency through automation\\n- Improved personalization\\n- Data-driven decisions\\n- Cost optimization\",\n",
    "      \"transcript\": \"AI brings multiple benefits to marketing. Efficiency is achieved by automating repetitive tasks. Personalization is improved through real-time customer data analysis. Decision-making becomes more precise and timely thanks to predictive analytics. Finally, marketing budgets can be optimized by allocating resources where they will have the most impact.\"\n",
    "    },\n",
    "    {\n",
    "      \"slide_number\": 7,\n",
    "      \"title\": \"Challenges and Risks\",\n",
    "      \"content\": \"- Data privacy issues\\n- Algorithmic bias\\n- High adoption costs\\n- Skill shortages\",\n",
    "      \"transcript\": \"Despite its benefits, AI in marketing comes with challenges. Data privacy concerns are growing due to the massive amount of personal data collected. Algorithmic bias can lead to unfair targeting or discrimination. High adoption costs can be a barrier, especially for small businesses. Additionally, there is a shortage of skilled professionals who can design, implement, and maintain AI systems.\"\n",
    "    },\n",
    "    {\n",
    "      \"slide_number\": 8,\n",
    "      \"title\": \"Key Takeaways\",\n",
    "      \"content\": \"- AI is transforming every stage of marketing\\n- Balance innovation with ethics\\n- Invest in skills and infrastructure\",\n",
    "      \"transcript\": \"In summary, AI is revolutionizing every stage of the marketing process. However, it is important to balance innovation with ethical considerations, ensuring that technologies are used responsibly. Businesses should also invest in the skills and infrastructure needed to leverage AI effectively.\"\n",
    "    }\n",
    "  ]\n",
    "}\n"
   ]
  },
  {
   "cell_type": "markdown",
   "id": "a8cc9dbb",
   "metadata": {},
   "source": [
    "# Schema"
   ]
  },
  {
   "cell_type": "code",
   "execution_count": 2,
   "id": "d74591fb",
   "metadata": {},
   "outputs": [],
   "source": [
    "from typing import List, Tuple, Literal, Optional, Dict\n",
    "from pydantic import BaseModel, Field\n",
    "\n",
    "Rect = Tuple[int, int, int, int]  # x,y,w,h\n",
    "\n",
    "class Slot(BaseModel):\n",
    "    id: str\n",
    "    kind: Literal[\"text\",\"image\",\"video\",\"shape\",\"presenter\"]\n",
    "    rect: Rect\n",
    "    z: int = 0\n",
    "    payload: Optional[str] = None      # text hoặc path/URL\n",
    "    style: Dict = Field(default_factory=dict)\n",
    "    anim: Dict = Field(default_factory=dict)\n",
    "\n",
    "class Scene(BaseModel):\n",
    "    scene_id: str\n",
    "    slide_number: int\n",
    "    layout: str\n",
    "    presenter_mode: Literal[\"off\",\"pip_left\",\"pip_right\",\"half_frame\"] = \"pip_right\"\n",
    "    slots: List[Slot] = []\n",
    "    start: float = 0.0          # điền ở bước 8\n",
    "    duration: float = 0.0       # lấy từ media ở bước 8\n",
    "    media: Dict = {}            # {\"presenter_video\":\"s01-presenter.mp4\", \"audio\":\"s01-audio.mp3\", \"captions\":\"s01.vtt\"}\n",
    "    assets_spec: Dict = {}      # {\"image_keywords\":[...], ...}\n",
    "\n",
    "class ScenePlan(BaseModel):\n",
    "    version: str = \"1.0\"\n",
    "    fps: int = 30\n",
    "    resolution: Tuple[int,int] = (1920,1080)\n",
    "    scenes: List[Scene] = []\n",
    "    meta: Dict = {}             # {\"speaker_wpm\":140, \"theme\":\"light\"}\n",
    "\n"
   ]
  },
  {
   "cell_type": "markdown",
   "id": "386b0808",
   "metadata": {},
   "source": [
    "# Prompt"
   ]
  },
  {
   "cell_type": "code",
   "execution_count": 33,
   "id": "ff72967b",
   "metadata": {},
   "outputs": [],
   "source": [
    "from langchain.prompts import ChatPromptTemplate\n",
    "\n",
    "INIT_SCENES_PROMPT = \"\"\"\n",
    "Bạn là một chuyên gia trong việc xây dựng kịch bản video E-Learning.\n",
    "Bạn sẽ nhận được một Outline gồm các ý chính sẽ được trình bày trong video. Mỗi Ý trong Outline sẽ bao gồm các slide, mỗi slide bao gồm:\n",
    "- Title: tiêu đề của video\n",
    "- Content: các nội dung chính thuộc tiêu đề trên.\n",
    "- Transcript: lời thoại dành cho presenter, lời thoại sẽ mang nội dung đầy đủ và được diễn giải của content tuy nhiên sẽ không hiển thị lên video.\n",
    "Bạn sẽ cần tạo một số thuộc tính sau cho scene theo JSON format:\n",
    "- scene_id: thường bắt đầu bằng chữ s và gắn liền với slide number (ví dụ: 1,2,3,..)\n",
    "- slide_number: thứ tự của slide chứa nội dung tương ứng với scene (ví dụ: s01, s02,s03,..)\n",
    "- layout: dựa vào nội dung và bộ layout template mà bạn được cung cấp bên dưới, hãy đề xuất layout phù hợp với scene này để có thể hiển thị đầy đủ nội dung và assets(nếu có).\n",
    "Outline:\n",
    "{outline}\n",
    "Layout Template:\n",
    "{layout_template}\n",
    "Tuyệt đối không trả về thêm bất cứ output nào ngoài list scene kể cả ```json \n",
    "\"\"\"\n",
    "IS_prompt = ChatPromptTemplate.from_template(INIT_SCENES_PROMPT)"
   ]
  },
  {
   "cell_type": "code",
   "execution_count": 6,
   "id": "0a239ac1",
   "metadata": {},
   "outputs": [
    {
     "data": {
      "text/plain": [
       "11"
      ]
     },
     "execution_count": 6,
     "metadata": {},
     "output_type": "execute_result"
    }
   ],
   "source": [
    "import os \n",
    "template_root = \"D:/ThienPV/code/demo/src/templates/scenes\"\n",
    "template_paths = os.listdir(path = template_root)\n",
    "len(template_paths)"
   ]
  },
  {
   "cell_type": "code",
   "execution_count": 7,
   "id": "9d82f6ae",
   "metadata": {},
   "outputs": [],
   "source": [
    "import json \n",
    "templates = []\n",
    "for path in template_paths:\n",
    "    path = os.path.join(template_root, path)\n",
    "    with open(path, \"r\", encoding=\"utf-8\") as fp:\n",
    "        template = json.load(fp)\n",
    "        templates.append(template)"
   ]
  },
  {
   "cell_type": "markdown",
   "id": "cefe2edd",
   "metadata": {},
   "source": [
    "# Agent"
   ]
  },
  {
   "cell_type": "code",
   "execution_count": 10,
   "id": "324cdadc",
   "metadata": {},
   "outputs": [],
   "source": [
    "from langchain_google_genai import ChatGoogleGenerativeAI\n",
    "\n",
    "llm = ChatGoogleGenerativeAI(model=\"gemini-2.0-flash\")"
   ]
  },
  {
   "cell_type": "code",
   "execution_count": 34,
   "id": "b23c7e4d",
   "metadata": {},
   "outputs": [],
   "source": [
    "init_scene_chain = IS_prompt | llm"
   ]
  },
  {
   "cell_type": "code",
   "execution_count": 35,
   "id": "83ced6e1",
   "metadata": {},
   "outputs": [
    {
     "data": {
      "text/plain": [
       "AIMessage(content='```json\\n[\\n  {\\n    \"scene_id\": \"s01\",\\n    \"slide_number\": 1,\\n    \"layout\": \"L01_HeroTitle\"\\n  },\\n  {\\n    \"scene_id\": \"s02\",\\n    \"slide_number\": 2,\\n    \"layout\": \"L07_Definition_Card\"\\n  },\\n  {\\n    \"scene_id\": \"s03\",\\n    \"slide_number\": 3,\\n    \"layout\": \"L08_Stepper_Process_3to5\"\\n  },\\n  {\\n    \"scene_id\": \"s04\",\\n    \"slide_number\": 4,\\n    \"layout\": \"L06_SplitCompare_AvsB\"\\n  },\\n  {\\n    \"scene_id\": \"s05\",\\n    \"slide_number\": 5,\\n    \"layout\": \"L05_ImageFocus_Right\"\\n  },\\n  {\\n    \"scene_id\": \"s06\",\\n    \"slide_number\": 6,\\n    \"layout\": \"L02_TitleBullets_1Col\"\\n  },\\n  {\\n    \"scene_id\": \"s07\",\\n    \"slide_number\": 7,\\n    \"layout\": \"L02_TitleBullets_1Col\"\\n  },\\n  {\\n    \"scene_id\": \"s08\",\\n    \"slide_number\": 8,\\n    \"layout\": \"L10_Outro_CTA\"\\n  }\\n]\\n```', additional_kwargs={}, response_metadata={'prompt_feedback': {'block_reason': 0, 'safety_ratings': []}, 'finish_reason': 'STOP', 'model_name': 'gemini-2.0-flash', 'safety_ratings': []}, id='run--688bb48f-6bd5-464a-ab78-27d972a7997d-0', usage_metadata={'input_tokens': 5707, 'output_tokens': 355, 'total_tokens': 6062, 'input_token_details': {'cache_read': 0}})"
      ]
     },
     "execution_count": 35,
     "metadata": {},
     "output_type": "execute_result"
    }
   ],
   "source": [
    "out = init_scene_chain.invoke(\n",
    "    {\n",
    "        \"outline\": outline_,\n",
    "        \"layout_template\": str(templates)\n",
    "    }\n",
    ")\n",
    "out"
   ]
  },
  {
   "cell_type": "code",
   "execution_count": 36,
   "id": "2e89044d",
   "metadata": {},
   "outputs": [
    {
     "name": "stdout",
     "output_type": "stream",
     "text": [
      "```json\n",
      "[\n",
      "  {\n",
      "    \"scene_id\": \"s01\",\n",
      "    \"slide_number\": 1,\n",
      "    \"layout\": \"L01_HeroTitle\"\n",
      "  },\n",
      "  {\n",
      "    \"scene_id\": \"s02\",\n",
      "    \"slide_number\": 2,\n",
      "    \"layout\": \"L07_Definition_Card\"\n",
      "  },\n",
      "  {\n",
      "    \"scene_id\": \"s03\",\n",
      "    \"slide_number\": 3,\n",
      "    \"layout\": \"L08_Stepper_Process_3to5\"\n",
      "  },\n",
      "  {\n",
      "    \"scene_id\": \"s04\",\n",
      "    \"slide_number\": 4,\n",
      "    \"layout\": \"L06_SplitCompare_AvsB\"\n",
      "  },\n",
      "  {\n",
      "    \"scene_id\": \"s05\",\n",
      "    \"slide_number\": 5,\n",
      "    \"layout\": \"L05_ImageFocus_Right\"\n",
      "  },\n",
      "  {\n",
      "    \"scene_id\": \"s06\",\n",
      "    \"slide_number\": 6,\n",
      "    \"layout\": \"L02_TitleBullets_1Col\"\n",
      "  },\n",
      "  {\n",
      "    \"scene_id\": \"s07\",\n",
      "    \"slide_number\": 7,\n",
      "    \"layout\": \"L02_TitleBullets_1Col\"\n",
      "  },\n",
      "  {\n",
      "    \"scene_id\": \"s08\",\n",
      "    \"slide_number\": 8,\n",
      "    \"layout\": \"L10_Outro_CTA\"\n",
      "  }\n",
      "]\n",
      "```\n"
     ]
    }
   ],
   "source": [
    "print(out.content)"
   ]
  },
  {
   "cell_type": "code",
   "execution_count": 38,
   "id": "caaa7377",
   "metadata": {},
   "outputs": [],
   "source": [
    "out_ = [\n",
    "  {\n",
    "    \"scene_id\": \"s01\",\n",
    "    \"slide_number\": 1,\n",
    "    \"layout\": \"L01_HeroTitle\"\n",
    "  },\n",
    "  {\n",
    "    \"scene_id\": \"s02\",\n",
    "    \"slide_number\": 2,\n",
    "    \"layout\": \"L07_Definition_Card\"\n",
    "  },\n",
    "  {\n",
    "    \"scene_id\": \"s03\",\n",
    "    \"slide_number\": 3,\n",
    "    \"layout\": \"L08_Stepper_Process_3to5\"\n",
    "  },\n",
    "  {\n",
    "    \"scene_id\": \"s04\",\n",
    "    \"slide_number\": 4,\n",
    "    \"layout\": \"L06_SplitCompare_AvsB\"\n",
    "  },\n",
    "  {\n",
    "    \"scene_id\": \"s05\",\n",
    "    \"slide_number\": 5,\n",
    "    \"layout\": \"L05_ImageFocus_Right\"\n",
    "  },\n",
    "  {\n",
    "    \"scene_id\": \"s06\",\n",
    "    \"slide_number\": 6,\n",
    "    \"layout\": \"L02_TitleBullets_1Col\"\n",
    "  },\n",
    "  {\n",
    "    \"scene_id\": \"s07\",\n",
    "    \"slide_number\": 7,\n",
    "    \"layout\": \"L02_TitleBullets_1Col\"\n",
    "  },\n",
    "  {\n",
    "    \"scene_id\": \"s08\",\n",
    "    \"slide_number\": 8,\n",
    "    \"layout\": \"L10_Outro_CTA\"\n",
    "  }\n",
    "]"
   ]
  },
  {
   "cell_type": "code",
   "execution_count": null,
   "id": "86c7630a",
   "metadata": {},
   "outputs": [],
   "source": []
  },
  {
   "cell_type": "code",
   "execution_count": 41,
   "id": "31884759",
   "metadata": {},
   "outputs": [
    {
     "name": "stdout",
     "output_type": "stream",
     "text": [
      "0\n",
      "{'scene_id': 's01', 'slide_number': 1, 'layout': 'L01_HeroTitle'}\n",
      "{'slide_number': 1, 'title': 'AI in Marketing: The Future is Now', 'content': '- Why AI matters in marketing\\n- Setting the stage for transformation', 'transcript': \"Welcome to 'AI in Marketing: The Future is Now'. In this opening slide, we set the stage for exploring how artificial intelligence is not just a tool but a transformative force in the marketing industry. We will discuss why AI matters, the rapid pace of innovation, and how it is reshaping customer engagement.\"}\n",
      "1\n",
      "{'scene_id': 's02', 'slide_number': 2, 'layout': 'L07_Definition_Card'}\n",
      "{'slide_number': 2, 'title': 'What is AI in Marketing?', 'content': '- Definition\\n- Scope of use in marketing', 'transcript': 'Artificial Intelligence in marketing refers to the use of machine learning algorithms and data-driven models to automate decisions, personalize customer experiences, and optimize marketing campaigns. It encompasses everything from recommendation engines to chatbots, targeting strategies, and predictive analytics.'}\n",
      "2\n",
      "{'scene_id': 's03', 'slide_number': 3, 'layout': 'L08_Stepper_Process_3to5'}\n",
      "{'slide_number': 3, 'title': 'Five-Step Customer Journey', 'content': '- Awareness\\n- Consideration\\n- Conversion\\n- Retention\\n- Advocacy', 'transcript': 'The customer journey can be broken down into five essential stages. Awareness is where potential customers first learn about your brand. Consideration is when they start evaluating your product or service. Conversion is the moment they decide to buy. Retention focuses on keeping customers engaged and satisfied. Advocacy is when customers promote your brand to others. AI can enhance each stage through personalized touchpoints.'}\n",
      "3\n",
      "{'scene_id': 's04', 'slide_number': 4, 'layout': 'L06_SplitCompare_AvsB'}\n",
      "{'slide_number': 4, 'title': 'AI Tools: A Comparison', 'content': '- Tool A: High accuracy, higher cost\\n- Tool B: Moderate accuracy, affordable', 'transcript': \"Let's compare two AI marketing tools. Tool A offers high accuracy in targeting and recommendations but comes at a significantly higher cost. Tool B is more affordable, with moderate accuracy and fewer advanced features. Choosing the right tool depends on your budget, marketing goals, and the complexity of your campaigns.\"}\n",
      "4\n",
      "{'scene_id': 's05', 'slide_number': 5, 'layout': 'L05_ImageFocus_Right'}\n",
      "{'slide_number': 5, 'title': 'Real-World Success Stories', 'content': '- Retail: Personalized shopping experiences\\n- Hospitality: Dynamic pricing models', 'transcript': 'In retail, companies like Amazon have successfully used AI to deliver highly personalized shopping experiences, recommending products based on browsing and purchase history. In the hospitality industry, AI-driven dynamic pricing models help hotels and airlines optimize rates in real-time, maximizing revenue while maintaining competitive pricing.'}\n",
      "5\n",
      "{'scene_id': 's06', 'slide_number': 6, 'layout': 'L02_TitleBullets_1Col'}\n",
      "{'slide_number': 6, 'title': 'Benefits of AI in Marketing', 'content': '- Efficiency through automation\\n- Improved personalization\\n- Data-driven decisions\\n- Cost optimization', 'transcript': 'AI brings multiple benefits to marketing. Efficiency is achieved by automating repetitive tasks. Personalization is improved through real-time customer data analysis. Decision-making becomes more precise and timely thanks to predictive analytics. Finally, marketing budgets can be optimized by allocating resources where they will have the most impact.'}\n",
      "6\n",
      "{'scene_id': 's07', 'slide_number': 7, 'layout': 'L02_TitleBullets_1Col'}\n",
      "{'slide_number': 7, 'title': 'Challenges and Risks', 'content': '- Data privacy issues\\n- Algorithmic bias\\n- High adoption costs\\n- Skill shortages', 'transcript': 'Despite its benefits, AI in marketing comes with challenges. Data privacy concerns are growing due to the massive amount of personal data collected. Algorithmic bias can lead to unfair targeting or discrimination. High adoption costs can be a barrier, especially for small businesses. Additionally, there is a shortage of skilled professionals who can design, implement, and maintain AI systems.'}\n",
      "7\n",
      "{'scene_id': 's08', 'slide_number': 8, 'layout': 'L10_Outro_CTA'}\n",
      "{'slide_number': 8, 'title': 'Key Takeaways', 'content': '- AI is transforming every stage of marketing\\n- Balance innovation with ethics\\n- Invest in skills and infrastructure', 'transcript': 'In summary, AI is revolutionizing every stage of the marketing process. However, it is important to balance innovation with ethical considerations, ensuring that technologies are used responsibly. Businesses should also invest in the skills and infrastructure needed to leverage AI effectively.'}\n"
     ]
    }
   ],
   "source": [
    "for idx, scene in enumerate(out_):\n",
    "    print(idx)\n",
    "    print(scene)\n",
    "    print(outline_[\"slides\"][idx])"
   ]
  },
  {
   "cell_type": "code",
   "execution_count": 42,
   "id": "d65f5edf",
   "metadata": {},
   "outputs": [
    {
     "name": "stdout",
     "output_type": "stream",
     "text": [
      "AI in Marketing: The Future is Now\n",
      "- Why AI matters in marketing\n",
      "- Setting the stage for transformation\n",
      "What is AI in Marketing?\n",
      "- Definition\n",
      "- Scope of use in marketing\n",
      "Five-Step Customer Journey\n",
      "- Awareness\n",
      "- Consideration\n",
      "- Conversion\n",
      "- Retention\n",
      "- Advocacy\n",
      "AI Tools: A Comparison\n",
      "- Tool A: High accuracy, higher cost\n",
      "- Tool B: Moderate accuracy, affordable\n",
      "Real-World Success Stories\n",
      "- Retail: Personalized shopping experiences\n",
      "- Hospitality: Dynamic pricing models\n",
      "Benefits of AI in Marketing\n",
      "- Efficiency through automation\n",
      "- Improved personalization\n",
      "- Data-driven decisions\n",
      "- Cost optimization\n",
      "Challenges and Risks\n",
      "- Data privacy issues\n",
      "- Algorithmic bias\n",
      "- High adoption costs\n",
      "- Skill shortages\n",
      "Key Takeaways\n",
      "- AI is transforming every stage of marketing\n",
      "- Balance innovation with ethics\n",
      "- Invest in skills and infrastructure\n"
     ]
    }
   ],
   "source": [
    "for it in outline_[\"slides\"]:\n",
    "    print(it[\"title\"])\n",
    "    print(it[\"content\"])"
   ]
  },
  {
   "cell_type": "code",
   "execution_count": null,
   "id": "308c12d3",
   "metadata": {},
   "outputs": [],
   "source": [
    "def init_scene_from_outline (outline: Dict)-> Scene:\n",
    "    "
   ]
  },
  {
   "cell_type": "code",
   "execution_count": null,
   "id": "723c0c57",
   "metadata": {},
   "outputs": [],
   "source": [
    "def init_scene_from_slide(slide) -> Scene: ...\n",
    "def build_slots(scene, slide, layout_lib, theme) -> None: ...\n",
    "def decide_presenter_mode(scene) -> str: ...\n",
    "def synthesize_presenter(scene, transcript) -> Dict: ...  # returns media dict\n",
    "def derive_assets_spec(slide) -> Dict: ...\n",
    "def arrange_timeline(scenes, media_probe) -> None: ...    # fill start/duration\n",
    "def quick_adjust(scene) -> None: ..."
   ]
  }
 ],
 "metadata": {
  "kernelspec": {
   "display_name": "demo (3.13.6)",
   "language": "python",
   "name": "python3"
  },
  "language_info": {
   "codemirror_mode": {
    "name": "ipython",
    "version": 3
   },
   "file_extension": ".py",
   "mimetype": "text/x-python",
   "name": "python",
   "nbconvert_exporter": "python",
   "pygments_lexer": "ipython3",
   "version": "3.13.6"
  }
 },
 "nbformat": 4,
 "nbformat_minor": 5
}
