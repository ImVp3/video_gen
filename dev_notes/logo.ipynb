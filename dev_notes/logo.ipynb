{
 "cells": [
  {
   "cell_type": "markdown",
   "id": "7ab4d52b",
   "metadata": {},
   "source": [
    "# Import"
   ]
  },
  {
   "cell_type": "code",
   "execution_count": 12,
   "id": "c879fbe7",
   "metadata": {},
   "outputs": [
    {
     "data": {
      "text/plain": [
       "<AddedDllDirectory('C:\\\\msys64\\\\mingw64\\\\bin')>"
      ]
     },
     "execution_count": 12,
     "metadata": {},
     "output_type": "execute_result"
    }
   ],
   "source": [
    "import os\n",
    "os.add_dll_directory(r\"C:\\msys64\\mingw64\\bin\")  # phải đặt TRƯỚC khi import cairosvg/cairocffi\n"
   ]
  },
  {
   "cell_type": "code",
   "execution_count": 13,
   "id": "c8e41e11",
   "metadata": {},
   "outputs": [],
   "source": [
    "from __future__ import annotations\n",
    "from dataclasses import dataclass, field\n",
    "from typing import Dict, Any, Tuple, Optional, List\n",
    "from pathlib import Path\n",
    "\n",
    "from moviepy import ImageClip, ColorClip, CompositeVideoClip, VideoClip\n",
    "import io, numpy as np\n",
    "from pathlib import Path\n",
    "from PIL import Image\n"
   ]
  },
  {
   "cell_type": "markdown",
   "id": "281dd832",
   "metadata": {},
   "source": [
    "# Data Class"
   ]
  },
  {
   "cell_type": "code",
   "execution_count": 2,
   "id": "7858b528",
   "metadata": {},
   "outputs": [],
   "source": [
    "Anchor = str  # \"top_left\" | \"top_right\" | \"bottom_left\" | \"bottom_right\" | \"center\"\n",
    "Size = Tuple[int, int]\n",
    "\n",
    "@dataclass\n",
    "class Chip:\n",
    "    enabled: bool = False\n",
    "    opacity: float = 0.28\n",
    "    radius: int = 14         # bo góc chip (dùng mask đơn giản)\n",
    "    pad_px: int = 8          # nới chip lớn hơn logo (mỗi cạnh)\n",
    "\n",
    "@dataclass\n",
    "class LogoOpts:\n",
    "    anchor: Anchor = \"top_right\"\n",
    "    inset: int = 48\n",
    "    width_pct: float = 0.07\n",
    "    max_height_pct: float = 0.08\n",
    "    opacity: float = 0.8\n",
    "    chip: Chip = field(default_factory=Chip)"
   ]
  },
  {
   "cell_type": "markdown",
   "id": "3e18daae",
   "metadata": {},
   "source": [
    "# Ultils"
   ]
  },
  {
   "cell_type": "code",
   "execution_count": 16,
   "id": "0a6e09ea",
   "metadata": {},
   "outputs": [],
   "source": [
    "# thêm vào đầu file\n",
    "def _imageclip_from_asset(path: str, target_w: int | None = None, target_h: int | None = None):\n",
    "    \"\"\"Trả về ImageClip từ PNG/JPG hoặc SVG (rasterize bằng cairosvg).\"\"\"\n",
    "    if path.lower().endswith(\".svg\"):\n",
    "        import cairosvg\n",
    "        svg_bytes = Path(path).read_bytes()\n",
    "        if target_w:\n",
    "            png_bytes = cairosvg.svg2png(bytestring=svg_bytes, output_width=int(target_w))\n",
    "        elif target_h:\n",
    "            png_bytes = cairosvg.svg2png(bytestring=svg_bytes, output_height=int(target_h))\n",
    "        else:\n",
    "            png_bytes = cairosvg.svg2png(bytestring=svg_bytes, output_width=1024)\n",
    "        img = Image.open(io.BytesIO(png_bytes)).convert(\"RGBA\")\n",
    "        return ImageClip(np.array(img))\n",
    "    else:\n",
    "        return ImageClip(path)\n"
   ]
  },
  {
   "cell_type": "markdown",
   "id": "c6288de1",
   "metadata": {},
   "source": [
    "# Geometry"
   ]
  },
  {
   "cell_type": "code",
   "execution_count": null,
   "id": "a0a2d6d3",
   "metadata": {},
   "outputs": [],
   "source": [
    "def _anchor_xy(anchor: Anchor, logo_wh: Size, canvas_wh: Size, inset: int) -> Tuple[int, int]:\n",
    "    lw, lh = logo_wh; W, H = canvas_wh\n",
    "    if anchor == \"top_left\":     return inset, inset\n",
    "    if anchor == \"top_right\":    return W - inset - lw, inset\n",
    "    if anchor == \"bottom_left\":  return inset, H - inset - lh\n",
    "    if anchor == \"bottom_right\": return W - inset - lw, H - inset - lh\n",
    "    return (W - lw)//2, (H - lh)//2  # center\n",
    "\n",
    "def _scale_logo(clip: ImageClip, canvas_wh: Size, width_pct: float, max_height_pct: float) -> ImageClip:\n",
    "    W, H = canvas_wh\n",
    "    # scale theo width trước\n",
    "    target_w = max(1, int(W * width_pct))\n",
    "    scaled = clip.resized(new_size=(target_w, int(clip.h * (target_w / clip.w))))\n",
    "    # giới hạn theo max_height\n",
    "    max_h = int(H * max_height_pct)\n",
    "    if scaled.h > max_h:\n",
    "        scaled = scaled.resized(new_size=(int(scaled.w * (max_h / scaled.h)), max_h))\n",
    "    return scaled\n",
    "\n",
    "def _intersect(a: Tuple[int,int,int,int], b: Tuple[int,int,int,int]) -> bool:\n",
    "    ax, ay, aw, ah = a; bx, by, bw, bh = b\n",
    "    return not (bx > ax+aw or bx+bw < ax or by > ay+ah or by+bh < ay)\n",
    "\n",
    "def _resolve_avoid_rects(canvas_wh: Size, avoid_specs: List[Dict[str, Any]]) -> List[Tuple[int,int,int,int]]:\n",
    "    W, H = canvas_wh\n",
    "    rects = []\n",
    "    for it in avoid_specs or []:\n",
    "        if \"rect_pct\" in it and it[\"rect_pct\"] and len(it[\"rect_pct\"]) == 4:\n",
    "            x, y, w, h = it[\"rect_pct\"]\n",
    "            rects.append((int(x*W), int(y*H), int(w*W), int(h*H)))\n",
    "        elif \"rect_px\" in it and it[\"rect_px\"] and len(it[\"rect_px\"]) == 4:\n",
    "            rects.append(tuple(it[\"rect_px\"]))\n",
    "    return rects\n",
    "\n",
    "def _auto_pick_anchor(initial: Anchor, order: List[Anchor], logo_wh: Size, canvas_wh: Size,\n",
    "                      inset: int, avoid_rects: List[Tuple[int,int,int,int]]) -> Anchor:\n",
    "    # thử theo thứ tự ưu tiên, chọn anchor không va chạm\n",
    "    for anchor in ([initial] + [a for a in order if a != initial]):\n",
    "        x, y = _anchor_xy(anchor, logo_wh, canvas_wh, inset)\n",
    "        rect = (x, y, logo_wh[0], logo_wh[1])\n",
    "        if not any(_intersect(rect, ar) for ar in avoid_rects):\n",
    "            return anchor\n",
    "    return initial\n"
   ]
  },
  {
   "cell_type": "code",
   "execution_count": 5,
   "id": "f3b20836",
   "metadata": {},
   "outputs": [],
   "source": [
    "# ---------- chip (nền mờ sau logo) ----------\n",
    "def _chip_clip(size: Size, chip: Chip) -> Optional[VideoClip]:\n",
    "    if not chip.enabled: return None\n",
    "    w, h = size\n",
    "    # ColorClip không có radius; ta đơn giản dùng clip hình chữ nhật mờ\n",
    "    # (Nếu cần bo góc thật: tạo mask RGBA bằng PIL rồi ImageClip)\n",
    "    bg = ColorClip(size=(w + chip.pad_px*2, h + chip.pad_px*2), color=(0,0,0)).with_opacity(chip.opacity)\n",
    "    return bg\n"
   ]
  },
  {
   "cell_type": "code",
   "execution_count": 21,
   "id": "a1ff652e",
   "metadata": {},
   "outputs": [],
   "source": [
    "\n",
    "# ---------- build logo ----------\n",
    "def build_logo_clip(\n",
    "    spec: Dict[str, Any],\n",
    "    variant: str,                 # \"primary_lockup\" | \"alternate_horizontal\" | \"alternate_stacked\" | \"mark_only\" | \"wordmark_only\"\n",
    "    mode: str = \"watermark\",      # \"watermark\" | \"hero\"\n",
    "    canvas_size: Size = (1920, 1080),\n",
    "    duration: Optional[float] = None,\n",
    "    overrides: Optional[Dict[str, Any]] = None,\n",
    "    extra_avoid_rects_px: Optional[List[Tuple[int,int,int,int]]] = None\n",
    ") -> VideoClip:\n",
    "    \"\"\"\n",
    "    Trả về ImageClip đã scale, đặt anchor & inset, áp opacity, chip nền, auto-avoid (nếu có).\n",
    "    Clip trả về đã .with_position((x,y)), không có background (để ghép CompositeVideoClip).\n",
    "    \"\"\"\n",
    "    overrides = overrides or {}\n",
    "    cfg = spec[\"logo\"]\n",
    "\n",
    "    # 1) Lấy đường dẫn asset\n",
    "    assets = cfg[\"assets\"]\n",
    "    if variant not in assets:\n",
    "        raise ValueError(f\"Variant '{variant}' không tồn tại trong spec.assets\")\n",
    "    src = assets[variant]\n",
    "    if not Path(src).exists():\n",
    "        raise FileNotFoundError(f\"Không tìm thấy file logo: {src}\")\n",
    "\n",
    "    # 2) Build preset (global preset + per-variant override + overrides)\n",
    "    preset = dict(cfg[\"presets\"][mode])  # shallow copy\n",
    "    per = cfg.get(\"per_variant_overrides\", {}).get(variant, {})\n",
    "    if mode in per:\n",
    "        # merge override cho preset cùng mode\n",
    "        def _deepmerge(a, b):\n",
    "            out = dict(a)\n",
    "            for k, v in b.items():\n",
    "                if isinstance(v, dict) and isinstance(out.get(k), dict):\n",
    "                    out[k] = _deepmerge(out[k], v)\n",
    "                else:\n",
    "                    out[k] = v\n",
    "            return out\n",
    "        preset = _deepmerge(preset, per[mode])\n",
    "\n",
    "    # apply overrides cuối cùng (ưu tiên cao nhất)\n",
    "    for k, v in overrides.items():\n",
    "        if k == \"chip\" and isinstance(v, dict):\n",
    "            preset[\"chip\"] = {**preset.get(\"chip\", {}), **v}\n",
    "        else:\n",
    "            preset[k] = v\n",
    "\n",
    "    # 3) Parse options\n",
    "    chip_cfg = preset.get(\"chip\", {}) or {}\n",
    "    chip = Chip(\n",
    "        enabled=bool(chip_cfg.get(\"enabled\", False)),\n",
    "        opacity=float(chip_cfg.get(\"opacity\", 0.28)),\n",
    "        radius=int(chip_cfg.get(\"radius\", 14)),\n",
    "        pad_px=int(chip_cfg.get(\"pad_px\", 8)),\n",
    "    )\n",
    "    opts = LogoOpts(\n",
    "        anchor=preset.get(\"anchor\", \"top_right\"),\n",
    "        inset=int(preset.get(\"inset\", 48)),\n",
    "        width_pct=float(preset.get(\"width_pct\", 0.07)),\n",
    "        max_height_pct=float(preset.get(\"max_height_pct\", 0.08)),\n",
    "        opacity=float(preset.get(\"opacity\", 0.8)),\n",
    "        chip=chip\n",
    "    )\n",
    "\n",
    "    # 4) Load & scale (ưu tiên rasterize đúng kích thước mục tiêu để nét)\n",
    "    W, H = canvas_size\n",
    "    target_w = max(1, int(W * opts.width_pct))\n",
    "    max_h = int(H * opts.max_height_pct)\n",
    "\n",
    "    logo = _imageclip_from_asset(src, target_w=target_w)  # PNG/JPG đọc thẳng, SVG → PNG in-memory\n",
    "    if duration is not None:\n",
    "        logo = logo.with_duration(duration)\n",
    "    # Nếu cao quá ngưỡng, co theo chiều cao\n",
    "    if logo.h > max_h:\n",
    "        logo = logo.resized(new_size=(int(logo.w * (max_h / logo.h)), max_h))\n",
    "\n",
    "\n",
    "    # 5) Optional chip\n",
    "    local_layers: List[VideoClip] = []\n",
    "    chip_clip = _chip_clip((logo.w, logo.h), opts.chip)\n",
    "    if chip_clip is not None:\n",
    "        local = CompositeVideoClip([chip_clip, logo.with_position((opts.chip.pad_px, opts.chip.pad_px))],\n",
    "                                   size=(chip_clip.w, chip_clip.h))\n",
    "        logo = local  # treat as a single clip of (logo + chip)\n",
    "\n",
    "    # 6) Auto-avoid collisions\n",
    "    avoid_rects = _resolve_avoid_rects(canvas_size, cfg.get(\"collision_rules\", {}).get(\"avoid\", []))\n",
    "    if extra_avoid_rects_px:\n",
    "        avoid_rects.extend(extra_avoid_rects_px)\n",
    "    anchor = opts.anchor\n",
    "    if cfg.get(\"collision_rules\", {}).get(\"auto_flip\", True):\n",
    "        order = cfg.get(\"collision_rules\", {}).get(\"priority_order\",\n",
    "                    [\"top_right\",\"top_left\",\"bottom_right\",\"bottom_left\",\"center\"])\n",
    "        anchor = _auto_pick_anchor(anchor, order, (logo.w, logo.h), canvas_size, opts.inset, avoid_rects)\n",
    "\n",
    "    # 7) Position theo anchor & inset\n",
    "    x, y = _anchor_xy(anchor, (logo.w, logo.h), canvas_size, opts.inset)\n",
    "    return logo.with_position((x, y))\n"
   ]
  },
  {
   "cell_type": "markdown",
   "id": "20c428bc",
   "metadata": {},
   "source": [
    "# Test"
   ]
  },
  {
   "cell_type": "code",
   "execution_count": null,
   "id": "6ef4dc6e",
   "metadata": {},
   "outputs": [
    {
     "data": {
      "text/plain": [
       "4546"
      ]
     },
     "execution_count": 18,
     "metadata": {},
     "output_type": "execute_result"
    }
   ],
   "source": [
    "import requests\n",
    "# open('logo.png','wb').write(requests.get('https://w7.pngwing.com/pngs/857/23/png-transparent-logo.png').content)"
   ]
  },
  {
   "cell_type": "code",
   "execution_count": 26,
   "id": "e7a96aba",
   "metadata": {},
   "outputs": [
    {
     "data": {
      "text/plain": [
       "[<moviepy.video.compositing.CompositeVideoClip.CompositeVideoClip at 0x1c144d3d810>,\n",
       " <moviepy.video.compositing.CompositeVideoClip.CompositeVideoClip at 0x1c144d3d450>,\n",
       " <moviepy.video.compositing.CompositeVideoClip.CompositeVideoClip at 0x1c144d3da90>,\n",
       " <moviepy.video.compositing.CompositeVideoClip.CompositeVideoClip at 0x1c144d3dd10>,\n",
       " <moviepy.video.compositing.CompositeVideoClip.CompositeVideoClip at 0x1c144d3df90>,\n",
       " <moviepy.video.compositing.CompositeVideoClip.CompositeVideoClip at 0x1c144d3e210>,\n",
       " <moviepy.video.compositing.CompositeVideoClip.CompositeVideoClip at 0x1c144d3e490>,\n",
       " <moviepy.video.compositing.CompositeVideoClip.CompositeVideoClip at 0x1c144d3e710>,\n",
       " <moviepy.video.compositing.CompositeVideoClip.CompositeVideoClip at 0x1c144d3e990>,\n",
       " <moviepy.video.compositing.CompositeVideoClip.CompositeVideoClip at 0x1c144d3ee90>]"
      ]
     },
     "execution_count": 26,
     "metadata": {},
     "output_type": "execute_result"
    }
   ],
   "source": [
    "heroes"
   ]
  },
  {
   "cell_type": "code",
   "execution_count": 27,
   "id": "c1712e41",
   "metadata": {},
   "outputs": [
    {
     "ename": "OSError",
     "evalue": "[Errno 22] Invalid argument\n\nMoviePy error: FFPLAY encountered the following error while previewing clip :\n\n None",
     "output_type": "error",
     "traceback": [
      "\u001b[31m---------------------------------------------------------------------------\u001b[39m",
      "\u001b[31mOSError\u001b[39m                                   Traceback (most recent call last)",
      "\u001b[36mFile \u001b[39m\u001b[32md:\\ThienPV\\code\\demo\\.venv\\Lib\\site-packages\\moviepy\\video\\io\\ffplay_previewer.py:59\u001b[39m, in \u001b[36mFFPLAY_VideoPreviewer.show_frame\u001b[39m\u001b[34m(self, img_array)\u001b[39m\n\u001b[32m     58\u001b[39m \u001b[38;5;28;01mtry\u001b[39;00m:\n\u001b[32m---> \u001b[39m\u001b[32m59\u001b[39m     \u001b[38;5;28;43mself\u001b[39;49m\u001b[43m.\u001b[49m\u001b[43mproc\u001b[49m\u001b[43m.\u001b[49m\u001b[43mstdin\u001b[49m\u001b[43m.\u001b[49m\u001b[43mwrite\u001b[49m\u001b[43m(\u001b[49m\u001b[43mimg_array\u001b[49m\u001b[43m.\u001b[49m\u001b[43mtobytes\u001b[49m\u001b[43m(\u001b[49m\u001b[43m)\u001b[49m\u001b[43m)\u001b[49m\n\u001b[32m     60\u001b[39m \u001b[38;5;28;01mexcept\u001b[39;00m \u001b[38;5;167;01mIOError\u001b[39;00m \u001b[38;5;28;01mas\u001b[39;00m err:\n",
      "\u001b[31mOSError\u001b[39m: [Errno 22] Invalid argument",
      "\nDuring handling of the above exception, another exception occurred:\n",
      "\u001b[31mOSError\u001b[39m                                   Traceback (most recent call last)",
      "\u001b[36mCell\u001b[39m\u001b[36m \u001b[39m\u001b[32mIn[27]\u001b[39m\u001b[32m, line 28\u001b[39m\n\u001b[32m     26\u001b[39m         heroes.append(final)\n\u001b[32m     27\u001b[39m \u001b[38;5;28;01mfor\u001b[39;00m hero \u001b[38;5;129;01min\u001b[39;00m heroes:\n\u001b[32m---> \u001b[39m\u001b[32m28\u001b[39m     \u001b[43mhero\u001b[49m\u001b[43m.\u001b[49m\u001b[43mpreview\u001b[49m\u001b[43m(\u001b[49m\u001b[43m)\u001b[49m\n",
      "\u001b[36mFile \u001b[39m\u001b[32md:\\ThienPV\\code\\demo\\.venv\\Lib\\site-packages\\decorator.py:235\u001b[39m, in \u001b[36mdecorate.<locals>.fun\u001b[39m\u001b[34m(*args, **kw)\u001b[39m\n\u001b[32m    233\u001b[39m \u001b[38;5;28;01mif\u001b[39;00m \u001b[38;5;129;01mnot\u001b[39;00m kwsyntax:\n\u001b[32m    234\u001b[39m     args, kw = fix(args, kw, sig)\n\u001b[32m--> \u001b[39m\u001b[32m235\u001b[39m \u001b[38;5;28;01mreturn\u001b[39;00m \u001b[43mcaller\u001b[49m\u001b[43m(\u001b[49m\u001b[43mfunc\u001b[49m\u001b[43m,\u001b[49m\u001b[43m \u001b[49m\u001b[43m*\u001b[49m\u001b[43m(\u001b[49m\u001b[43mextras\u001b[49m\u001b[43m \u001b[49m\u001b[43m+\u001b[49m\u001b[43m \u001b[49m\u001b[43margs\u001b[49m\u001b[43m)\u001b[49m\u001b[43m,\u001b[49m\u001b[43m \u001b[49m\u001b[43m*\u001b[49m\u001b[43m*\u001b[49m\u001b[43mkw\u001b[49m\u001b[43m)\u001b[49m\n",
      "\u001b[36mFile \u001b[39m\u001b[32md:\\ThienPV\\code\\demo\\.venv\\Lib\\site-packages\\moviepy\\decorators.py:53\u001b[39m, in \u001b[36mrequires_duration\u001b[39m\u001b[34m(func, clip, *args, **kwargs)\u001b[39m\n\u001b[32m     51\u001b[39m     \u001b[38;5;28;01mraise\u001b[39;00m \u001b[38;5;167;01mValueError\u001b[39;00m(\u001b[33m\"\u001b[39m\u001b[33mAttribute \u001b[39m\u001b[33m'\u001b[39m\u001b[33mduration\u001b[39m\u001b[33m'\u001b[39m\u001b[33m not set\u001b[39m\u001b[33m\"\u001b[39m)\n\u001b[32m     52\u001b[39m \u001b[38;5;28;01melse\u001b[39;00m:\n\u001b[32m---> \u001b[39m\u001b[32m53\u001b[39m     \u001b[38;5;28;01mreturn\u001b[39;00m \u001b[43mfunc\u001b[49m\u001b[43m(\u001b[49m\u001b[43mclip\u001b[49m\u001b[43m,\u001b[49m\u001b[43m \u001b[49m\u001b[43m*\u001b[49m\u001b[43margs\u001b[49m\u001b[43m,\u001b[49m\u001b[43m \u001b[49m\u001b[43m*\u001b[49m\u001b[43m*\u001b[49m\u001b[43mkwargs\u001b[49m\u001b[43m)\u001b[49m\n",
      "\u001b[36mFile \u001b[39m\u001b[32md:\\ThienPV\\code\\demo\\.venv\\Lib\\site-packages\\decorator.py:235\u001b[39m, in \u001b[36mdecorate.<locals>.fun\u001b[39m\u001b[34m(*args, **kw)\u001b[39m\n\u001b[32m    233\u001b[39m \u001b[38;5;28;01mif\u001b[39;00m \u001b[38;5;129;01mnot\u001b[39;00m kwsyntax:\n\u001b[32m    234\u001b[39m     args, kw = fix(args, kw, sig)\n\u001b[32m--> \u001b[39m\u001b[32m235\u001b[39m \u001b[38;5;28;01mreturn\u001b[39;00m \u001b[43mcaller\u001b[49m\u001b[43m(\u001b[49m\u001b[43mfunc\u001b[49m\u001b[43m,\u001b[49m\u001b[43m \u001b[49m\u001b[43m*\u001b[49m\u001b[43m(\u001b[49m\u001b[43mextras\u001b[49m\u001b[43m \u001b[49m\u001b[43m+\u001b[49m\u001b[43m \u001b[49m\u001b[43margs\u001b[49m\u001b[43m)\u001b[49m\u001b[43m,\u001b[49m\u001b[43m \u001b[49m\u001b[43m*\u001b[49m\u001b[43m*\u001b[49m\u001b[43mkw\u001b[49m\u001b[43m)\u001b[49m\n",
      "\u001b[36mFile \u001b[39m\u001b[32md:\\ThienPV\\code\\demo\\.venv\\Lib\\site-packages\\moviepy\\decorators.py:24\u001b[39m, in \u001b[36mconvert_masks_to_RGB\u001b[39m\u001b[34m(func, clip, *args, **kwargs)\u001b[39m\n\u001b[32m     22\u001b[39m \u001b[38;5;28;01mif\u001b[39;00m clip.is_mask:\n\u001b[32m     23\u001b[39m     clip = clip.to_RGB()\n\u001b[32m---> \u001b[39m\u001b[32m24\u001b[39m \u001b[38;5;28;01mreturn\u001b[39;00m \u001b[43mfunc\u001b[49m\u001b[43m(\u001b[49m\u001b[43mclip\u001b[49m\u001b[43m,\u001b[49m\u001b[43m \u001b[49m\u001b[43m*\u001b[49m\u001b[43margs\u001b[49m\u001b[43m,\u001b[49m\u001b[43m \u001b[49m\u001b[43m*\u001b[49m\u001b[43m*\u001b[49m\u001b[43mkwargs\u001b[49m\u001b[43m)\u001b[49m\n",
      "\u001b[36mFile \u001b[39m\u001b[32md:\\ThienPV\\code\\demo\\.venv\\Lib\\site-packages\\moviepy\\video\\VideoClip.py:636\u001b[39m, in \u001b[36mVideoClip.preview\u001b[39m\u001b[34m(self, fps, audio, audio_fps, audio_buffersize, audio_nbytes)\u001b[39m\n\u001b[32m    633\u001b[39m     audiothread.start()\n\u001b[32m    635\u001b[39m \u001b[38;5;66;03m# passthrough to ffmpeg, passing flag for ffmpeg to set\u001b[39;00m\n\u001b[32m--> \u001b[39m\u001b[32m636\u001b[39m \u001b[43mffplay_preview_video\u001b[49m\u001b[43m(\u001b[49m\n\u001b[32m    637\u001b[39m \u001b[43m    \u001b[49m\u001b[43mclip\u001b[49m\u001b[43m=\u001b[49m\u001b[38;5;28;43mself\u001b[39;49m\u001b[43m,\u001b[49m\u001b[43m \u001b[49m\u001b[43mfps\u001b[49m\u001b[43m=\u001b[49m\u001b[43mfps\u001b[49m\u001b[43m,\u001b[49m\u001b[43m \u001b[49m\u001b[43maudio_flag\u001b[49m\u001b[43m=\u001b[49m\u001b[43maudio_flag\u001b[49m\u001b[43m,\u001b[49m\u001b[43m \u001b[49m\u001b[43mvideo_flag\u001b[49m\u001b[43m=\u001b[49m\u001b[43mvideo_flag\u001b[49m\n\u001b[32m    638\u001b[39m \u001b[43m\u001b[49m\u001b[43m)\u001b[49m\n",
      "\u001b[36mFile \u001b[39m\u001b[32md:\\ThienPV\\code\\demo\\.venv\\Lib\\site-packages\\moviepy\\video\\io\\ffplay_previewer.py:126\u001b[39m, in \u001b[36mffplay_preview_video\u001b[39m\u001b[34m(clip, fps, pixel_format, audio_flag, video_flag)\u001b[39m\n\u001b[32m    124\u001b[39m first_frame = \u001b[38;5;28;01mTrue\u001b[39;00m\n\u001b[32m    125\u001b[39m \u001b[38;5;28;01mfor\u001b[39;00m t, frame \u001b[38;5;129;01min\u001b[39;00m clip.iter_frames(with_times=\u001b[38;5;28;01mTrue\u001b[39;00m, fps=fps, dtype=\u001b[33m\"\u001b[39m\u001b[33muint8\u001b[39m\u001b[33m\"\u001b[39m):\n\u001b[32m--> \u001b[39m\u001b[32m126\u001b[39m     \u001b[43mpreviewer\u001b[49m\u001b[43m.\u001b[49m\u001b[43mshow_frame\u001b[49m\u001b[43m(\u001b[49m\u001b[43mframe\u001b[49m\u001b[43m)\u001b[49m\n\u001b[32m    128\u001b[39m     \u001b[38;5;66;03m# After first frame is shown, if we have audio/video flag, set video ready\u001b[39;00m\n\u001b[32m    129\u001b[39m     \u001b[38;5;66;03m# and wait for audio\u001b[39;00m\n\u001b[32m    130\u001b[39m     \u001b[38;5;28;01mif\u001b[39;00m first_frame:\n",
      "\u001b[36mFile \u001b[39m\u001b[32md:\\ThienPV\\code\\demo\\.venv\\Lib\\site-packages\\moviepy\\video\\io\\ffplay_previewer.py:70\u001b[39m, in \u001b[36mFFPLAY_VideoPreviewer.show_frame\u001b[39m\u001b[34m(self, img_array)\u001b[39m\n\u001b[32m     63\u001b[39m     ffplay_error = ffplay_error.decode()\n\u001b[32m     65\u001b[39m error = (\n\u001b[32m     66\u001b[39m     \u001b[33mf\u001b[39m\u001b[33m\"\u001b[39m\u001b[38;5;132;01m{\u001b[39;00merr\u001b[38;5;132;01m}\u001b[39;00m\u001b[38;5;130;01m\\n\u001b[39;00m\u001b[38;5;130;01m\\n\u001b[39;00m\u001b[33mMoviePy error: FFPLAY encountered the following error while \u001b[39m\u001b[33m\"\u001b[39m\n\u001b[32m     67\u001b[39m     \u001b[33mf\u001b[39m\u001b[33m\"\u001b[39m\u001b[33mpreviewing clip :\u001b[39m\u001b[38;5;130;01m\\n\u001b[39;00m\u001b[38;5;130;01m\\n\u001b[39;00m\u001b[33m \u001b[39m\u001b[38;5;132;01m{\u001b[39;00mffplay_error\u001b[38;5;132;01m}\u001b[39;00m\u001b[33m\"\u001b[39m\n\u001b[32m     68\u001b[39m )\n\u001b[32m---> \u001b[39m\u001b[32m70\u001b[39m \u001b[38;5;28;01mraise\u001b[39;00m \u001b[38;5;167;01mIOError\u001b[39;00m(error)\n",
      "\u001b[31mOSError\u001b[39m: [Errno 22] Invalid argument\n\nMoviePy error: FFPLAY encountered the following error while previewing clip :\n\n None"
     ]
    }
   ],
   "source": [
    "import json\n",
    "from moviepy import ColorClip, CompositeVideoClip, concatenate_videoclips\n",
    "\n",
    "# 1) Load spec\n",
    "with open(\"D:/ThienPV/code/demo/assets/logo_spec_v1.json\", \"r\", encoding=\"utf-8\") as f:\n",
    "    SPEC = json.load(f)\n",
    "\n",
    "W,H = 1920,1080\n",
    "bg = ColorClip((W,H), color=(15,18,24)).with_duration(5)\n",
    "\n",
    "# 3) Hero lockup (center) 2s đầu (chèn vào intro, tuỳ chọn)\n",
    "HERO_SPEC = SPEC\n",
    "heroes = []\n",
    "types = [\"primary_lockup\", \"alternate_horizontal\", \"alternate_stacked\", \"mark_only\", \"wordmark_only\"]\n",
    "for type in types:\n",
    "    for mode in [\"hero\", \"watermark\"]:\n",
    "        HERO_SPEC[\"logo\"][\"assets\"][type]= \"D:/ThienPV/code/demo/data/logo.png\"\n",
    "        hero = build_logo_clip(\n",
    "            HERO_SPEC,\n",
    "            variant=type,\n",
    "            mode=mode,\n",
    "            canvas_size=(W,H),\n",
    "            duration=1\n",
    "        ).with_start(0.0)\n",
    "        final = CompositeVideoClip([bg,hero]) \n",
    "        heroes.append(final)\n",
    "for hero in heroes:\n",
    "    hero.preview()"
   ]
  },
  {
   "cell_type": "code",
   "execution_count": 23,
   "id": "dcdac38a",
   "metadata": {},
   "outputs": [
    {
     "ename": "OSError",
     "evalue": "[Errno 22] Invalid argument\n\nMoviePy error: FFPLAY encountered the following error while previewing clip :\n\n None",
     "output_type": "error",
     "traceback": [
      "\u001b[31m---------------------------------------------------------------------------\u001b[39m",
      "\u001b[31mOSError\u001b[39m                                   Traceback (most recent call last)",
      "\u001b[36mFile \u001b[39m\u001b[32md:\\ThienPV\\code\\demo\\.venv\\Lib\\site-packages\\moviepy\\video\\io\\ffplay_previewer.py:59\u001b[39m, in \u001b[36mFFPLAY_VideoPreviewer.show_frame\u001b[39m\u001b[34m(self, img_array)\u001b[39m\n\u001b[32m     58\u001b[39m \u001b[38;5;28;01mtry\u001b[39;00m:\n\u001b[32m---> \u001b[39m\u001b[32m59\u001b[39m     \u001b[38;5;28;43mself\u001b[39;49m\u001b[43m.\u001b[49m\u001b[43mproc\u001b[49m\u001b[43m.\u001b[49m\u001b[43mstdin\u001b[49m\u001b[43m.\u001b[49m\u001b[43mwrite\u001b[49m\u001b[43m(\u001b[49m\u001b[43mimg_array\u001b[49m\u001b[43m.\u001b[49m\u001b[43mtobytes\u001b[49m\u001b[43m(\u001b[49m\u001b[43m)\u001b[49m\u001b[43m)\u001b[49m\n\u001b[32m     60\u001b[39m \u001b[38;5;28;01mexcept\u001b[39;00m \u001b[38;5;167;01mIOError\u001b[39;00m \u001b[38;5;28;01mas\u001b[39;00m err:\n",
      "\u001b[31mOSError\u001b[39m: [Errno 22] Invalid argument",
      "\nDuring handling of the above exception, another exception occurred:\n",
      "\u001b[31mOSError\u001b[39m                                   Traceback (most recent call last)",
      "\u001b[36mCell\u001b[39m\u001b[36m \u001b[39m\u001b[32mIn[23]\u001b[39m\u001b[32m, line 1\u001b[39m\n\u001b[32m----> \u001b[39m\u001b[32m1\u001b[39m \u001b[43mfinal\u001b[49m\u001b[43m.\u001b[49m\u001b[43mpreview\u001b[49m\u001b[43m(\u001b[49m\u001b[43m)\u001b[49m\n",
      "\u001b[36mFile \u001b[39m\u001b[32md:\\ThienPV\\code\\demo\\.venv\\Lib\\site-packages\\decorator.py:235\u001b[39m, in \u001b[36mdecorate.<locals>.fun\u001b[39m\u001b[34m(*args, **kw)\u001b[39m\n\u001b[32m    233\u001b[39m \u001b[38;5;28;01mif\u001b[39;00m \u001b[38;5;129;01mnot\u001b[39;00m kwsyntax:\n\u001b[32m    234\u001b[39m     args, kw = fix(args, kw, sig)\n\u001b[32m--> \u001b[39m\u001b[32m235\u001b[39m \u001b[38;5;28;01mreturn\u001b[39;00m \u001b[43mcaller\u001b[49m\u001b[43m(\u001b[49m\u001b[43mfunc\u001b[49m\u001b[43m,\u001b[49m\u001b[43m \u001b[49m\u001b[43m*\u001b[49m\u001b[43m(\u001b[49m\u001b[43mextras\u001b[49m\u001b[43m \u001b[49m\u001b[43m+\u001b[49m\u001b[43m \u001b[49m\u001b[43margs\u001b[49m\u001b[43m)\u001b[49m\u001b[43m,\u001b[49m\u001b[43m \u001b[49m\u001b[43m*\u001b[49m\u001b[43m*\u001b[49m\u001b[43mkw\u001b[49m\u001b[43m)\u001b[49m\n",
      "\u001b[36mFile \u001b[39m\u001b[32md:\\ThienPV\\code\\demo\\.venv\\Lib\\site-packages\\moviepy\\decorators.py:53\u001b[39m, in \u001b[36mrequires_duration\u001b[39m\u001b[34m(func, clip, *args, **kwargs)\u001b[39m\n\u001b[32m     51\u001b[39m     \u001b[38;5;28;01mraise\u001b[39;00m \u001b[38;5;167;01mValueError\u001b[39;00m(\u001b[33m\"\u001b[39m\u001b[33mAttribute \u001b[39m\u001b[33m'\u001b[39m\u001b[33mduration\u001b[39m\u001b[33m'\u001b[39m\u001b[33m not set\u001b[39m\u001b[33m\"\u001b[39m)\n\u001b[32m     52\u001b[39m \u001b[38;5;28;01melse\u001b[39;00m:\n\u001b[32m---> \u001b[39m\u001b[32m53\u001b[39m     \u001b[38;5;28;01mreturn\u001b[39;00m \u001b[43mfunc\u001b[49m\u001b[43m(\u001b[49m\u001b[43mclip\u001b[49m\u001b[43m,\u001b[49m\u001b[43m \u001b[49m\u001b[43m*\u001b[49m\u001b[43margs\u001b[49m\u001b[43m,\u001b[49m\u001b[43m \u001b[49m\u001b[43m*\u001b[49m\u001b[43m*\u001b[49m\u001b[43mkwargs\u001b[49m\u001b[43m)\u001b[49m\n",
      "\u001b[36mFile \u001b[39m\u001b[32md:\\ThienPV\\code\\demo\\.venv\\Lib\\site-packages\\decorator.py:235\u001b[39m, in \u001b[36mdecorate.<locals>.fun\u001b[39m\u001b[34m(*args, **kw)\u001b[39m\n\u001b[32m    233\u001b[39m \u001b[38;5;28;01mif\u001b[39;00m \u001b[38;5;129;01mnot\u001b[39;00m kwsyntax:\n\u001b[32m    234\u001b[39m     args, kw = fix(args, kw, sig)\n\u001b[32m--> \u001b[39m\u001b[32m235\u001b[39m \u001b[38;5;28;01mreturn\u001b[39;00m \u001b[43mcaller\u001b[49m\u001b[43m(\u001b[49m\u001b[43mfunc\u001b[49m\u001b[43m,\u001b[49m\u001b[43m \u001b[49m\u001b[43m*\u001b[49m\u001b[43m(\u001b[49m\u001b[43mextras\u001b[49m\u001b[43m \u001b[49m\u001b[43m+\u001b[49m\u001b[43m \u001b[49m\u001b[43margs\u001b[49m\u001b[43m)\u001b[49m\u001b[43m,\u001b[49m\u001b[43m \u001b[49m\u001b[43m*\u001b[49m\u001b[43m*\u001b[49m\u001b[43mkw\u001b[49m\u001b[43m)\u001b[49m\n",
      "\u001b[36mFile \u001b[39m\u001b[32md:\\ThienPV\\code\\demo\\.venv\\Lib\\site-packages\\moviepy\\decorators.py:24\u001b[39m, in \u001b[36mconvert_masks_to_RGB\u001b[39m\u001b[34m(func, clip, *args, **kwargs)\u001b[39m\n\u001b[32m     22\u001b[39m \u001b[38;5;28;01mif\u001b[39;00m clip.is_mask:\n\u001b[32m     23\u001b[39m     clip = clip.to_RGB()\n\u001b[32m---> \u001b[39m\u001b[32m24\u001b[39m \u001b[38;5;28;01mreturn\u001b[39;00m \u001b[43mfunc\u001b[49m\u001b[43m(\u001b[49m\u001b[43mclip\u001b[49m\u001b[43m,\u001b[49m\u001b[43m \u001b[49m\u001b[43m*\u001b[49m\u001b[43margs\u001b[49m\u001b[43m,\u001b[49m\u001b[43m \u001b[49m\u001b[43m*\u001b[49m\u001b[43m*\u001b[49m\u001b[43mkwargs\u001b[49m\u001b[43m)\u001b[49m\n",
      "\u001b[36mFile \u001b[39m\u001b[32md:\\ThienPV\\code\\demo\\.venv\\Lib\\site-packages\\moviepy\\video\\VideoClip.py:636\u001b[39m, in \u001b[36mVideoClip.preview\u001b[39m\u001b[34m(self, fps, audio, audio_fps, audio_buffersize, audio_nbytes)\u001b[39m\n\u001b[32m    633\u001b[39m     audiothread.start()\n\u001b[32m    635\u001b[39m \u001b[38;5;66;03m# passthrough to ffmpeg, passing flag for ffmpeg to set\u001b[39;00m\n\u001b[32m--> \u001b[39m\u001b[32m636\u001b[39m \u001b[43mffplay_preview_video\u001b[49m\u001b[43m(\u001b[49m\n\u001b[32m    637\u001b[39m \u001b[43m    \u001b[49m\u001b[43mclip\u001b[49m\u001b[43m=\u001b[49m\u001b[38;5;28;43mself\u001b[39;49m\u001b[43m,\u001b[49m\u001b[43m \u001b[49m\u001b[43mfps\u001b[49m\u001b[43m=\u001b[49m\u001b[43mfps\u001b[49m\u001b[43m,\u001b[49m\u001b[43m \u001b[49m\u001b[43maudio_flag\u001b[49m\u001b[43m=\u001b[49m\u001b[43maudio_flag\u001b[49m\u001b[43m,\u001b[49m\u001b[43m \u001b[49m\u001b[43mvideo_flag\u001b[49m\u001b[43m=\u001b[49m\u001b[43mvideo_flag\u001b[49m\n\u001b[32m    638\u001b[39m \u001b[43m\u001b[49m\u001b[43m)\u001b[49m\n",
      "\u001b[36mFile \u001b[39m\u001b[32md:\\ThienPV\\code\\demo\\.venv\\Lib\\site-packages\\moviepy\\video\\io\\ffplay_previewer.py:126\u001b[39m, in \u001b[36mffplay_preview_video\u001b[39m\u001b[34m(clip, fps, pixel_format, audio_flag, video_flag)\u001b[39m\n\u001b[32m    124\u001b[39m first_frame = \u001b[38;5;28;01mTrue\u001b[39;00m\n\u001b[32m    125\u001b[39m \u001b[38;5;28;01mfor\u001b[39;00m t, frame \u001b[38;5;129;01min\u001b[39;00m clip.iter_frames(with_times=\u001b[38;5;28;01mTrue\u001b[39;00m, fps=fps, dtype=\u001b[33m\"\u001b[39m\u001b[33muint8\u001b[39m\u001b[33m\"\u001b[39m):\n\u001b[32m--> \u001b[39m\u001b[32m126\u001b[39m     \u001b[43mpreviewer\u001b[49m\u001b[43m.\u001b[49m\u001b[43mshow_frame\u001b[49m\u001b[43m(\u001b[49m\u001b[43mframe\u001b[49m\u001b[43m)\u001b[49m\n\u001b[32m    128\u001b[39m     \u001b[38;5;66;03m# After first frame is shown, if we have audio/video flag, set video ready\u001b[39;00m\n\u001b[32m    129\u001b[39m     \u001b[38;5;66;03m# and wait for audio\u001b[39;00m\n\u001b[32m    130\u001b[39m     \u001b[38;5;28;01mif\u001b[39;00m first_frame:\n",
      "\u001b[36mFile \u001b[39m\u001b[32md:\\ThienPV\\code\\demo\\.venv\\Lib\\site-packages\\moviepy\\video\\io\\ffplay_previewer.py:70\u001b[39m, in \u001b[36mFFPLAY_VideoPreviewer.show_frame\u001b[39m\u001b[34m(self, img_array)\u001b[39m\n\u001b[32m     63\u001b[39m     ffplay_error = ffplay_error.decode()\n\u001b[32m     65\u001b[39m error = (\n\u001b[32m     66\u001b[39m     \u001b[33mf\u001b[39m\u001b[33m\"\u001b[39m\u001b[38;5;132;01m{\u001b[39;00merr\u001b[38;5;132;01m}\u001b[39;00m\u001b[38;5;130;01m\\n\u001b[39;00m\u001b[38;5;130;01m\\n\u001b[39;00m\u001b[33mMoviePy error: FFPLAY encountered the following error while \u001b[39m\u001b[33m\"\u001b[39m\n\u001b[32m     67\u001b[39m     \u001b[33mf\u001b[39m\u001b[33m\"\u001b[39m\u001b[33mpreviewing clip :\u001b[39m\u001b[38;5;130;01m\\n\u001b[39;00m\u001b[38;5;130;01m\\n\u001b[39;00m\u001b[33m \u001b[39m\u001b[38;5;132;01m{\u001b[39;00mffplay_error\u001b[38;5;132;01m}\u001b[39;00m\u001b[33m\"\u001b[39m\n\u001b[32m     68\u001b[39m )\n\u001b[32m---> \u001b[39m\u001b[32m70\u001b[39m \u001b[38;5;28;01mraise\u001b[39;00m \u001b[38;5;167;01mIOError\u001b[39;00m(error)\n",
      "\u001b[31mOSError\u001b[39m: [Errno 22] Invalid argument\n\nMoviePy error: FFPLAY encountered the following error while previewing clip :\n\n None"
     ]
    }
   ],
   "source": [
    "final.preview()"
   ]
  }
 ],
 "metadata": {
  "kernelspec": {
   "display_name": "demo (3.13.6)",
   "language": "python",
   "name": "python3"
  },
  "language_info": {
   "codemirror_mode": {
    "name": "ipython",
    "version": 3
   },
   "file_extension": ".py",
   "mimetype": "text/x-python",
   "name": "python",
   "nbconvert_exporter": "python",
   "pygments_lexer": "ipython3",
   "version": "3.13.6"
  }
 },
 "nbformat": 4,
 "nbformat_minor": 5
}
