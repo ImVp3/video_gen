{
 "cells": [
  {
   "cell_type": "markdown",
   "id": "ea8415b9",
   "metadata": {},
   "source": [
    "# Checklist\n",
    "[ ] Trim\n",
    "[ ] Concat\n",
    "[ ] Resize\n",
    "[ ] add_title\n",
    "[ ] chèn logo\n",
    "[ ] render "
   ]
  },
  {
   "cell_type": "markdown",
   "id": "84ea7c09",
   "metadata": {},
   "source": [
    "# Basics"
   ]
  },
  {
   "cell_type": "code",
   "execution_count": 6,
   "id": "f6bc1072",
   "metadata": {},
   "outputs": [],
   "source": [
    "import logging\n",
    "import subprocess\n",
    "\n",
    "# Tạo logger riêng cho module này\n",
    "logger = logging.getLogger(__name__)\n",
    "logger.setLevel(logging.INFO)  # hoặc INFO nếu muốn ít log hơn\n",
    "\n",
    "# Nếu chưa có handler nào, thêm console handler\n",
    "if not logger.handlers:\n",
    "    console_handler = logging.StreamHandler()\n",
    "    console_handler.setFormatter(logging.Formatter(\n",
    "        '[%(levelname)s] %(asctime)s - %(name)s: %(message)s',\n",
    "        datefmt='%H:%M:%S'\n",
    "    ))\n",
    "    logger.addHandler(console_handler)\n",
    "FFMPEG_PATH = \"C:/Users/ADMIN/AppData/Local/Microsoft/WinGet/Packages/Gyan.FFmpeg_Microsoft.Winget.Source_8wekyb3d8bbwe/ffmpeg-7.1.1-full_build/bin/ffmpeg.exe\"\n",
    "FFPROBE_PATH = \"C:/Users/ADMIN/AppData/Local/Microsoft/WinGet/Packages/Gyan.FFmpeg_Microsoft.Winget.Source_8wekyb3d8bbwe/ffmpeg-7.1.1-full_build/bin/ffprobe.exe\"\n",
    "\n",
    "def runf(args: list):\n",
    "\n",
    "\n",
    "    args[0] = FFMPEG_PATH  # đảm bảo gọi đúng ffmpeg.exe thực\n",
    "\n",
    "    logger.info(\"Running FFmpeg: %s\", \" \".join(args))\n",
    "    result = subprocess.run(args, capture_output=True, text=True)\n",
    "    \n",
    "    if result.returncode != 0:\n",
    "        logger.error(\"FFmpeg failed:\\n%s\", result.stderr)\n",
    "        raise RuntimeError(\"FFmpeg command failed.\")\n",
    "    \n",
    "    logger.debug(\"FFmpeg output:\\n%s\", result.stdout)\n",
    "    return result.stdout\n"
   ]
  },
  {
   "cell_type": "markdown",
   "id": "c353009b",
   "metadata": {},
   "source": [
    "# Trim video"
   ]
  },
  {
   "cell_type": "code",
   "execution_count": 7,
   "id": "823b2be0",
   "metadata": {},
   "outputs": [],
   "source": [
    "def trim_video(input_path: str, start: float, end: float, output_path: str, reencode: bool = False):\n",
    "    \"\"\"\n",
    "    Cắt video từ giây `start` đến `end` và lưu vào `output_path`.\n",
    "    \n",
    "    :param input_path: Đường dẫn video gốc\n",
    "    :param start: Thời gian bắt đầu (giây)\n",
    "    :param end: Thời gian kết thúc (giây)\n",
    "    :param output_path: Nơi lưu video đã cắt\n",
    "    :param reencode: Nếu True, sẽ mã hóa lại video (chính xác hơn)\n",
    "    \"\"\"\n",
    "    if end <= start:\n",
    "        raise ValueError(\"Giá trị 'end' phải lớn hơn 'start'.\")\n",
    "\n",
    "    duration = end - start\n",
    "\n",
    "    if reencode:\n",
    "        args = [\n",
    "            \"ffmpeg\", \"-y\", \"-i\", input_path,\n",
    "            \"-ss\", str(start),\n",
    "            \"-t\", str(duration),\n",
    "            \"-c:v\", \"libx264\",\n",
    "            \"-c:a\", \"aac\",\n",
    "            output_path\n",
    "        ]\n",
    "    else:\n",
    "        args = [\n",
    "            \"ffmpeg\", \"-y\",\n",
    "            \"-ss\", str(start),\n",
    "            \"-to\", str(end),\n",
    "            \"-i\", input_path,\n",
    "            \"-c\", \"copy\",\n",
    "            output_path\n",
    "        ]\n",
    "\n",
    "    logger.info(\"Trim video from %.2fs to %.2fs (%s → %s)\", start, end, input_path, output_path)\n",
    "    runf(args)\n"
   ]
  },
  {
   "cell_type": "code",
   "execution_count": 8,
   "id": "111a1dab",
   "metadata": {},
   "outputs": [
    {
     "name": "stderr",
     "output_type": "stream",
     "text": [
      "[INFO] 17:33:22 - __main__: Trim video from 10.95s to 14.47s (D:/ThienPV/code/demo/data/TestAPI.mp4 → D:/ThienPV/code/demo/.trash/TestAPI1.mp4)\n",
      "[INFO] 17:33:22 - __main__: Running FFmpeg: C:/Users/ADMIN/AppData/Local/Microsoft/WinGet/Packages/Gyan.FFmpeg_Microsoft.Winget.Source_8wekyb3d8bbwe/ffmpeg-7.1.1-full_build/bin/ffmpeg.exe -y -i D:/ThienPV/code/demo/data/TestAPI.mp4 -ss 10.95 -t 3.519 -c:v libx264 -c:a aac D:/ThienPV/code/demo/.trash/TestAPI1.mp4\n",
      "[INFO] 17:33:23 - __main__: Trim video from 0.00s to 10.95s (D:/ThienPV/code/demo/data/TestAPI.mp4 → D:/ThienPV/code/demo/.trash/TestAPI0.mp4)\n",
      "[INFO] 17:33:23 - __main__: Running FFmpeg: C:/Users/ADMIN/AppData/Local/Microsoft/WinGet/Packages/Gyan.FFmpeg_Microsoft.Winget.Source_8wekyb3d8bbwe/ffmpeg-7.1.1-full_build/bin/ffmpeg.exe -y -i D:/ThienPV/code/demo/data/TestAPI.mp4 -ss 0 -t 10.95 -c:v libx264 -c:a aac D:/ThienPV/code/demo/.trash/TestAPI0.mp4\n"
     ]
    }
   ],
   "source": [
    "trim_video(\n",
    "    input_path=\"D:/ThienPV/code/demo/data/TestAPI.mp4\",\n",
    "    start=10.95,\n",
    "    end=14.469,\n",
    "    output_path=\"D:/ThienPV/code/demo/.trash/TestAPI1.mp4\",\n",
    "    reencode=True\n",
    ")\n",
    "trim_video(\n",
    "    input_path=\"D:/ThienPV/code/demo/data/TestAPI.mp4\",\n",
    "    start=0,\n",
    "    end=10.95,\n",
    "    output_path=\"D:/ThienPV/code/demo/.trash/TestAPI0.mp4\",\n",
    "    reencode=True\n",
    ")\n"
   ]
  },
  {
   "cell_type": "markdown",
   "id": "f3188939",
   "metadata": {},
   "source": [
    "# Concat"
   ]
  },
  {
   "cell_type": "code",
   "execution_count": 9,
   "id": "439d3e75",
   "metadata": {},
   "outputs": [],
   "source": [
    "import os\n",
    "import tempfile\n",
    "\n",
    "def concat_videos(video_paths: list[str], output_path: str, reencode=False):\n",
    "    if len(video_paths) < 2:\n",
    "        raise ValueError(\"Cần ít nhất 2 video để ghép\")\n",
    "\n",
    "    if reencode:\n",
    "        # Reencode + filter_complex\n",
    "        inputs = []\n",
    "        filter_parts = []\n",
    "        for idx, path in enumerate(video_paths):\n",
    "            inputs.extend([\"-i\", path])\n",
    "            filter_parts.append(f\"[{idx}:v:0][{idx}:a:0]\")\n",
    "        filter_str = \"\".join(filter_parts) + f\"concat=n={len(video_paths)}:v=1:a=1[outv][outa]\"\n",
    "        args = [\n",
    "            \"ffmpeg\", \"-y\",\n",
    "            *inputs,\n",
    "            \"-filter_complex\", filter_str,\n",
    "            \"-map\", \"[outv]\", \"-map\", \"[outa]\",\n",
    "            output_path\n",
    "        ]\n",
    "    else:\n",
    "        # Cách concat bằng danh sách file (nhanh, không reencode)\n",
    "        with tempfile.NamedTemporaryFile(mode=\"w+\", delete=False, suffix=\".txt\") as f:\n",
    "            for path in video_paths:\n",
    "                f.write(f\"file '{os.path.abspath(path)}'\\n\")\n",
    "            f.flush()\n",
    "            list_path = f.name\n",
    "\n",
    "        args = [\n",
    "            \"ffmpeg\", \"-y\",\n",
    "            \"-f\", \"concat\",\n",
    "            \"-safe\", \"0\",\n",
    "            \"-i\", list_path,\n",
    "            \"-c\", \"copy\",\n",
    "            output_path\n",
    "        ]\n",
    "\n",
    "    runf(args)\n"
   ]
  },
  {
   "cell_type": "code",
   "execution_count": 10,
   "id": "a92814ac",
   "metadata": {},
   "outputs": [
    {
     "name": "stderr",
     "output_type": "stream",
     "text": [
      "[INFO] 17:33:25 - __main__: Running FFmpeg: C:/Users/ADMIN/AppData/Local/Microsoft/WinGet/Packages/Gyan.FFmpeg_Microsoft.Winget.Source_8wekyb3d8bbwe/ffmpeg-7.1.1-full_build/bin/ffmpeg.exe -y -i D:/ThienPV/code/demo/.trash/TestAPI0.mp4 -i D:/ThienPV/code/demo/.trash/TestAPI1.mp4 -filter_complex [0:v:0][0:a:0][1:v:0][1:a:0]concat=n=2:v=1:a=1[outv][outa] -map [outv] -map [outa] D:/ThienPV/code/demo/.trash/TestAPI.mp4\n"
     ]
    }
   ],
   "source": [
    "concat_videos(\n",
    "    [\"D:/ThienPV/code/demo/.trash/TestAPI0.mp4\",\"D:/ThienPV/code/demo/.trash/TestAPI1.mp4\"],\n",
    "    \"D:/ThienPV/code/demo/.trash/TestAPI.mp4\",\n",
    "    reencode=True\n",
    ")\n"
   ]
  },
  {
   "cell_type": "markdown",
   "id": "b736097e",
   "metadata": {},
   "source": [
    "# Remove chroma key"
   ]
  },
  {
   "cell_type": "code",
   "execution_count": 11,
   "id": "89168175",
   "metadata": {},
   "outputs": [],
   "source": [
    "from PIL import Image\n",
    "import numpy as np\n",
    "from collections import Counter\n",
    "import subprocess\n",
    "import io\n",
    "import os\n",
    "\n",
    "\n",
    "def get_dominant_colors_from_image(img: Image.Image, top_n: int = 10):\n",
    "    \"\"\"\n",
    "    Trích xuất top_n màu phổ biến nhất từ ảnh PIL.Image.\n",
    "    Trả về list tuple: (màu dạng '0xRRGGBB', tỷ lệ phần trăm)\n",
    "    \"\"\"\n",
    "    img = img.convert('RGB')\n",
    "    img_np = np.array(img)\n",
    "    pixels = img_np.reshape(-1, 3)\n",
    "\n",
    "    color_counts = Counter(map(tuple, pixels))\n",
    "    total = sum(color_counts.values())\n",
    "\n",
    "    most_common = color_counts.most_common(top_n)\n",
    "\n",
    "    results = []\n",
    "    for color, count in most_common:\n",
    "        hex_color = '0x{:02x}{:02x}{:02x}'.format(*color)\n",
    "        percent = count / total * 100\n",
    "        results.append((hex_color, round(percent, 2)))\n",
    "\n",
    "    return results\n",
    "\n",
    "\n",
    "def extract_first_frame(video_path: str) -> Image.Image:\n",
    "    \"\"\"\n",
    "    Dùng ffmpeg để trích xuất frame đầu tiên từ video → trả về PIL.Image.\n",
    "    \"\"\"\n",
    "    cmd = [\n",
    "        FFMPEG_PATH, \"-y\",\n",
    "        \"-i\", video_path,\n",
    "        \"-frames:v\", \"1\",\n",
    "        \"-f\", \"image2pipe\",\n",
    "        \"-vcodec\", \"png\",\n",
    "        \"pipe:1\"\n",
    "    ]\n",
    "    result = subprocess.run(cmd, stdout=subprocess.PIPE, stderr=subprocess.DEVNULL)\n",
    "    return Image.open(io.BytesIO(result.stdout))\n",
    "\n",
    "\n",
    "def detect_background_color(video_path: str) -> str:\n",
    "    \"\"\"\n",
    "    Dự đoán màu nền của video dựa trên frame đầu tiên.\n",
    "    Trả về hex string dạng '0xRRGGBB'\n",
    "    \"\"\"\n",
    "    frame = extract_first_frame(video_path)\n",
    "    colors = get_dominant_colors_from_image(frame, top_n=5)\n",
    "    return colors[0][0]  # màu phổ biến nhất\n",
    "\n"
   ]
  },
  {
   "cell_type": "code",
   "execution_count": 12,
   "id": "96e4ce51",
   "metadata": {},
   "outputs": [],
   "source": [
    "import os\n",
    "\n",
    "def convert_video_format(\n",
    "    input_path: str,\n",
    "    output_path: str | None = None,\n",
    "    codec: str = \"qtrle\",\n",
    "    pix_fmt: str = \"yuva420p\"\n",
    "):\n",
    "    \"\"\"\n",
    "    Chuyển định dạng video, mặc định từ MP4 sang MOV với hỗ trợ alpha (qtrle).\n",
    "\n",
    "    Args:\n",
    "        input_path (str): Đường dẫn video đầu vào.\n",
    "        output_path (str | None): Đường dẫn đầu ra. Nếu None sẽ đổi đuôi sang .mov tự động.\n",
    "        codec (str): Codec video, mặc định 'qtrle' để hỗ trợ alpha trong .mov.\n",
    "        pix_fmt (str): Pixel format, mặc định 'yuva420p' để giữ alpha.\n",
    "    \"\"\"\n",
    "    if output_path is None:\n",
    "        base, _ = os.path.splitext(input_path)\n",
    "        output_path = base + \".mov\"\n",
    "\n",
    "    args = [\n",
    "        \"ffmpeg\", \"-y\",\n",
    "        \"-i\", input_path,\n",
    "        \"-c:v\", codec,\n",
    "        \"-pix_fmt\", pix_fmt,\n",
    "        output_path\n",
    "    ]\n",
    "\n",
    "    runf(args)\n",
    "!"
   ]
  },
  {
   "cell_type": "code",
   "execution_count": 13,
   "id": "1d69616a",
   "metadata": {},
   "outputs": [],
   "source": [
    "def remove_background(input_path, output_path=\"temp_fg.webm\"):\n",
    "    # Bước 1: Remove green background (xuất video có alpha)\n",
    "    cmd_remove_bg = [\n",
    "        \"ffmpeg\", \"-y\", \"-i\", input_path,\n",
    "        \"-vf\", \"chromakey=0x25d38d:0.2:0.1,format=yuva420p\",\n",
    "        \"-c:v\", \"libvpx-vp9\", \"-pix_fmt\", \"yuva420p\", \"-auto-alt-ref\", \"0\",\n",
    "        output_path\n",
    "    ]\n",
    "    runf(cmd_remove_bg)\n"
   ]
  },
  {
   "cell_type": "code",
   "execution_count": 14,
   "id": "04620f9b",
   "metadata": {},
   "outputs": [
    {
     "name": "stderr",
     "output_type": "stream",
     "text": [
      "[INFO] 17:33:45 - __main__: Running FFmpeg: C:/Users/ADMIN/AppData/Local/Microsoft/WinGet/Packages/Gyan.FFmpeg_Microsoft.Winget.Source_8wekyb3d8bbwe/ffmpeg-7.1.1-full_build/bin/ffmpeg.exe -y -i D:/ThienPV/code/demo/.trash/TestAPI.mp4 -vf chromakey=0x25d38d:0.2:0.1,format=yuva420p -c:v libvpx-vp9 -pix_fmt yuva420p -auto-alt-ref 0 D:/ThienPV/code/demo/.trash/TestAPI_nobg.webm\n"
     ]
    }
   ],
   "source": [
    "remove_background(\n",
    "    input_path=\"D:/ThienPV/code/demo/.trash/TestAPI.mp4\",\n",
    "    output_path=\"D:/ThienPV/code/demo/.trash/TestAPI_nobg.webm\",\n",
    ")\n"
   ]
  },
  {
   "cell_type": "markdown",
   "id": "11228bb9",
   "metadata": {},
   "source": [
    "# Overlay"
   ]
  },
  {
   "cell_type": "code",
   "execution_count": null,
   "id": "e16d6874",
   "metadata": {},
   "outputs": [],
   "source": [
    "import json\n",
    "def get_video_resolution(path: str) -> tuple[int, int]:\n",
    "    \"\"\"\n",
    "    Trả về độ phân giải (width, height) của video/image đầu vào.\n",
    "    \"\"\"\n",
    "    if not os.path.exists(path):\n",
    "        raise FileNotFoundError(f\"File not found: {path}\")\n",
    "    \n",
    "    cmd = [\n",
    "        FFPROBE_PATH,\n",
    "        \"-v\", \"error\",\n",
    "        \"-select_streams\", \"v:0\",\n",
    "        \"-show_entries\", \"stream=width,height\",\n",
    "        \"-of\", \"json\",\n",
    "        path\n",
    "    ]\n",
    "    result = subprocess.run(cmd, capture_output=True, text=True)\n",
    "\n",
    "    try:\n",
    "        info = json.loads(result.stdout)\n",
    "        stream = info[\"streams\"][0]\n",
    "        return int(stream[\"width\"]), int(stream[\"height\"])\n",
    "    except (KeyError, IndexError, json.JSONDecodeError):\n",
    "        raise RuntimeError(f\"Không thể lấy thông tin độ phân giải từ: {path}\\nOutput:\\n{result.stdout}\")\n"
   ]
  },
  {
   "cell_type": "code",
   "execution_count": null,
   "id": "231cd13a",
   "metadata": {},
   "outputs": [],
   "source": [
    "def get_video_duration(path: str) -> float:\n",
    "    \"\"\"\n",
    "    Trả về thời lượng (giây) của video/ảnh động.\n",
    "    \"\"\"\n",
    "    cmd = [\n",
    "        FFPROBE_PATH,\n",
    "        \"-v\", \"error\",\n",
    "        \"-select_streams\", \"v:0\",\n",
    "        \"-show_entries\", \"format=duration\",\n",
    "        \"-of\", \"default=noprint_wrappers=1:nokey=1\",\n",
    "        path\n",
    "    ]\n",
    "    result = subprocess.run(cmd, capture_output=True, text=True)\n",
    "    try:\n",
    "        return float(result.stdout.strip())\n",
    "    except:\n",
    "        raise RuntimeError(f\"Không lấy được duration từ: {path}\")\n"
   ]
  },
  {
   "cell_type": "code",
   "execution_count": null,
   "id": "170df1a0",
   "metadata": {},
   "outputs": [],
   "source": [
    "import os\n",
    "\n",
    "def overlay_background(\n",
    "    fg_path: str,\n",
    "    bg_path: str,\n",
    "    output_path: str,\n",
    "    position: tuple[int, int] = (0, 0),\n",
    "    scale: float = 1.0,\n",
    "    bg_loop: bool = True,\n",
    "    duration: float | None = None,\n",
    "    format: str = \"mp4\"\n",
    "):\n",
    "    \"\"\"\n",
    "    Overlay video nhân vật đã xóa nền (foreground) lên nền (background: video hoặc ảnh).\n",
    "\n",
    "    Args:\n",
    "        fg_path (str): Foreground video path (đã xóa nền).\n",
    "        bg_path (str): Background image or video path.\n",
    "        output_path (str): Output video path.\n",
    "        position (tuple[int, int], optional): (x, y) to place foreground.\n",
    "        scale (float): Tỉ lệ kích thước foreground so với background.\n",
    "        bg_loop (bool, optional): Lặp lại background nếu ngắn hơn.\n",
    "        duration (float | None, optional): Duration cố định (nếu không → tự lấy từ foreground).\n",
    "        format (str, optional): Output format.\n",
    "    \"\"\"\n",
    "    x, y = position\n",
    "    fg_stream = \"[1:v]\"\n",
    "    filter_parts = []\n",
    "\n",
    "    if scale != 1:\n",
    "        bg_w, bg_h = get_video_resolution(bg_path)\n",
    "        w = int(scale * bg_w)\n",
    "        h = int(scale * bg_h)\n",
    "        filter_parts.append(f\"[1:v]scale={w}:{h}[fg];\")\n",
    "        fg_stream = \"[fg]\"\n",
    "\n",
    "    filter_parts.append(f\"[0:v]{fg_stream}overlay={x}:{y}[outv]\")\n",
    "    filter_complex = \"\".join(filter_parts)\n",
    "\n",
    "    args = [\"ffmpeg\", \"-y\"]\n",
    "\n",
    "    if bg_path.lower().endswith((\".jpg\", \".jpeg\", \".png\", \".webp\")):\n",
    "        args.extend([\"-loop\", \"1\"])\n",
    "\n",
    "    args.extend([\"-i\", bg_path, \"-i\", fg_path])\n",
    "    args.extend([\"-filter_complex\", filter_complex])\n",
    "    args.extend([\"-map\", \"[outv]\", \"-map\", \"1:a?\"])\n",
    "\n",
    "    if duration is None:\n",
    "        duration = get_video_duration(fg_path)\n",
    "\n",
    "    args.extend([\"-t\", str(duration)])\n",
    "    args.extend([\"-c:v\", \"libx264\", \"-pix_fmt\", \"yuv420p\", output_path])\n",
    "\n",
    "    runf(args)\n"
   ]
  },
  {
   "cell_type": "code",
   "execution_count": null,
   "id": "ef11e807",
   "metadata": {},
   "outputs": [
    {
     "name": "stderr",
     "output_type": "stream",
     "text": [
      "[INFO] 16:00:48 - __main__: Running FFmpeg: C:/Users/ADMIN/AppData/Local/Microsoft/WinGet/Packages/Gyan.FFmpeg_Microsoft.Winget.Source_8wekyb3d8bbwe/ffmpeg-7.1.1-full_build/bin/ffmpeg.exe -y -loop 1 -i D:/ThienPV/code/demo/data/img.jpg -i D:/ThienPV/code/demo/.trash/TestAPI_nobg.mp4 -filter_complex [1:v]scale=368:207[fg];[0:v][fg]overlay=100:50[outv] -map [outv] -map 1:a? -t 14.506 -c:v libx264 -pix_fmt yuv420p D:/ThienPV/code/demo/.trash/overlay.mp4\n"
     ]
    }
   ],
   "source": [
    "overlay_background(\n",
    "    fg_path=\"D:/ThienPV/code/demo/.trash/TestAPI_nobg.mp4\",\n",
    "    bg_path=\"D:/ThienPV/code/demo/data/img.jpg\",\n",
    "    output_path=\"D:/ThienPV/code/demo/.trash/overlay.mp4\",\n",
    "    position=(100, 50),\n",
    "    scale=0.5,\n",
    ")\n"
   ]
  },
  {
   "cell_type": "markdown",
   "id": "e0d7c210",
   "metadata": {},
   "source": [
    "# "
   ]
  }
 ],
 "metadata": {
  "kernelspec": {
   "display_name": "demo (3.13.6)",
   "language": "python",
   "name": "python3"
  },
  "language_info": {
   "codemirror_mode": {
    "name": "ipython",
    "version": 3
   },
   "file_extension": ".py",
   "mimetype": "text/x-python",
   "name": "python",
   "nbconvert_exporter": "python",
   "pygments_lexer": "ipython3",
   "version": "3.13.6"
  }
 },
 "nbformat": 4,
 "nbformat_minor": 5
}
