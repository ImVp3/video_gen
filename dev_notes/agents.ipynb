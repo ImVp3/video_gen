{
 "cells": [
  {
   "cell_type": "markdown",
   "id": "ba637e52",
   "metadata": {},
   "source": [
    "# bla bla"
   ]
  },
  {
   "cell_type": "code",
   "execution_count": 45,
   "id": "877a4bcc",
   "metadata": {},
   "outputs": [],
   "source": [
    "from pydantic import BaseModel, Field\n",
    "from typing import Literal\n",
    "\n",
    "class UserInput(BaseModel):\n",
    "    topic: str\n",
    "    documents: str\n",
    "    language: Literal[\"eng\", \"vi\"]\n",
    "    n_section: int\n",
    "    length: Literal[\"short\", \"medium\", \"long\"] = Field(\n",
    "        ...,\n",
    "        description=(\n",
    "            \"Độ dài mong muốn của Video.\\n\"\n",
    "            \"- short: Dưới 3 phút (~400-600 từ lời thoại).\\n\"\n",
    "            \"- medium: 3-8 phút (~600-1600 từ lời thoại).\\n\"\n",
    "            \"- long: 8-15 phút (~1600-3000 từ lời thoại).\"\n",
    "        )\n",
    "    )\n"
   ]
  },
  {
   "cell_type": "code",
   "execution_count": null,
   "id": "218fb562",
   "metadata": {},
   "outputs": [],
   "source": [
    "from langchain_google_genai import ChatGoogleGenerativeAI\n",
    "from dotenv import load_dotenv, find_dotenv\n",
    "\n",
    "load_dotenv(find_dotenv())\n",
    "llm = ChatGoogleGenerativeAI(model = \"gemini-2.0-flash\")"
   ]
  },
  {
   "cell_type": "code",
   "execution_count": 14,
   "id": "8b7b76f0",
   "metadata": {},
   "outputs": [],
   "source": [
    "document = \"\"\" \n",
    "\n",
    "# Cách Tối Ưu Sử Dụng AI trong Marketing\n",
    "\n",
    "## 1. Giới thiệu về AI trong Marketing\n",
    "\n",
    "**Trí tuệ nhân tạo (Artificial Intelligence - AI)** trong marketing là việc ứng dụng các thuật toán và mô hình máy học để phân tích dữ liệu, tự động hóa quy trình, dự đoán hành vi khách hàng và tối ưu chiến lược tiếp thị. AI giúp marketer ra quyết định nhanh hơn, chính xác hơn và tiết kiệm chi phí.\n",
    "\n",
    "Theo báo cáo của **MarketsandMarkets**, quy mô thị trường AI trong marketing dự kiến đạt **107,5 tỷ USD vào năm 2028**, tăng trưởng với tốc độ CAGR 28,6% giai đoạn 2023–2028. Điều này cho thấy nhu cầu áp dụng AI để nâng cao hiệu quả tiếp thị ngày càng tăng mạnh.\n",
    "\n",
    "---\n",
    "\n",
    "## 2. Các Ứng Dụng Chính của AI trong Marketing\n",
    "\n",
    "### 2.1. Phân tích dữ liệu và dự đoán hành vi khách hàng\n",
    "\n",
    "AI có thể xử lý hàng triệu điểm dữ liệu từ lịch sử mua hàng, tương tác trên mạng xã hội, email marketing… để dự đoán nhu cầu và hành vi của từng khách hàng.\n",
    "Ví dụ: Amazon sử dụng AI để gợi ý sản phẩm, đóng góp hơn **35% doanh thu** từ hệ thống đề xuất này.\n",
    "\n",
    "### 2.2. Cá nhân hóa nội dung\n",
    "\n",
    "AI giúp tạo thông điệp cá nhân hóa theo từng nhóm đối tượng, thậm chí từng cá nhân. Nghiên cứu của **Epsilon** cho thấy, **80% người tiêu dùng** có nhiều khả năng mua hàng hơn khi thương hiệu cung cấp trải nghiệm cá nhân hóa.\n",
    "\n",
    "### 2.3. Tự động hóa chiến dịch Marketing\n",
    "\n",
    "Các nền tảng như HubSpot, Salesforce Marketing Cloud tích hợp AI để tự động gửi email, chạy quảng cáo, điều chỉnh ngân sách dựa trên hiệu suất theo thời gian thực.\n",
    "\n",
    "### 2.4. Chatbot và Hỗ trợ khách hàng\n",
    "\n",
    "Chatbot AI có thể xử lý **80% yêu cầu hỗ trợ cơ bản** mà không cần can thiệp của con người, giúp tiết kiệm chi phí nhân sự và nâng cao trải nghiệm khách hàng.\n",
    "\n",
    "### 2.5. Tạo nội dung bằng Generative AI\n",
    "\n",
    "Công cụ như ChatGPT, Jasper AI hay Midjourney có thể tạo bài viết, hình ảnh, video quảng cáo chỉ trong vài phút, rút ngắn đáng kể thời gian triển khai chiến dịch.\n",
    "\n",
    "---\n",
    "\n",
    "## 3. Chiến Lược Tối Ưu Sử Dụng AI trong Marketing\n",
    "\n",
    "### 3.1. Xác định mục tiêu rõ ràng\n",
    "\n",
    "Trước khi triển khai, doanh nghiệp cần xác định **AI sẽ giải quyết vấn đề gì**: tăng tỷ lệ chuyển đổi, giảm chi phí quảng cáo hay nâng cao trải nghiệm khách hàng.\n",
    "\n",
    "### 3.2. Tập trung vào chất lượng dữ liệu\n",
    "\n",
    "AI chỉ hiệu quả khi dữ liệu đầu vào sạch, đầy đủ và được cập nhật thường xuyên. Doanh nghiệp nên:\n",
    "\n",
    "* Tích hợp dữ liệu từ nhiều nguồn (CRM, social media, web analytics).\n",
    "* Làm sạch dữ liệu để loại bỏ trùng lặp, sai lệch.\n",
    "\n",
    "### 3.3. Kết hợp AI với sự giám sát của con người\n",
    "\n",
    "AI không thể thay thế hoàn toàn tư duy sáng tạo và khả năng ra quyết định chiến lược. Marketer cần giám sát, điều chỉnh và xác thực kết quả AI tạo ra.\n",
    "\n",
    "### 3.4. Thử nghiệm A/B liên tục\n",
    "\n",
    "Dùng AI để tạo nhiều phiên bản quảng cáo và chạy thử nghiệm A/B, từ đó tối ưu tiêu đề, hình ảnh, thông điệp.\n",
    "\n",
    "### 3.5. Tận dụng AI để dự báo và tối ưu ngân sách\n",
    "\n",
    "Các thuật toán Machine Learning có thể dự đoán ROI của từng kênh quảng cáo, giúp phân bổ ngân sách hợp lý. Theo **Deloitte**, doanh nghiệp áp dụng AI vào tối ưu ngân sách quảng cáo có thể **tăng hiệu quả chi tiêu lên 30%**.\n",
    "\n",
    "---\n",
    "\n",
    "## 4. Rủi Ro và Cách Giảm Thiểu\n",
    "\n",
    "### 4.1. Rủi ro về dữ liệu và quyền riêng tư\n",
    "\n",
    "Việc thu thập và xử lý dữ liệu khách hàng có thể vi phạm các quy định như **GDPR** hoặc **CCPA** nếu không tuân thủ.\n",
    "\n",
    "**Cách giảm thiểu**: Minh bạch về mục đích thu thập dữ liệu, cho phép khách hàng tùy chọn (opt-in/opt-out), mã hóa dữ liệu.\n",
    "\n",
    "### 4.2. Quá phụ thuộc vào AI\n",
    "\n",
    "Nếu chỉ dựa vào AI mà bỏ qua yếu tố con người, chiến dịch có thể trở nên thiếu cảm xúc và tính sáng tạo.\n",
    "\n",
    "**Cách giảm thiểu**: Dùng AI như công cụ hỗ trợ, không thay thế hoàn toàn đội ngũ marketing.\n",
    "\n",
    "### 4.3. Sai lệch thuật toán (Algorithm Bias)\n",
    "\n",
    "AI học từ dữ liệu quá khứ, nếu dữ liệu đó có thiên lệch, kết quả dự đoán cũng sẽ sai lệch.\n",
    "\n",
    "**Cách giảm thiểu**: Kiểm tra và hiệu chỉnh mô hình thường xuyên, đa dạng hóa nguồn dữ liệu.\n",
    "\n",
    "---\n",
    "\n",
    "## 5. Kết Luận\n",
    "\n",
    "AI đang trở thành một “trợ thủ đắc lực” trong marketing, giúp doanh nghiệp:\n",
    "\n",
    "* Hiểu khách hàng sâu hơn\n",
    "* Tối ưu chi phí\n",
    "* Tăng tốc triển khai chiến dịch\n",
    "* Cải thiện trải nghiệm cá nhân hóa\n",
    "\n",
    "Tuy nhiên, để tối ưu hiệu quả, doanh nghiệp cần **chiến lược dữ liệu tốt**, **mục tiêu rõ ràng** và **kết hợp AI với tư duy sáng tạo của con người**.\n",
    "Trong bối cảnh cạnh tranh khốc liệt, những đơn vị biết khai thác sức mạnh của AI một cách thông minh sẽ nắm lợi thế lớn trên thị trường.\n",
    "\n",
    "\"\"\""
   ]
  },
  {
   "cell_type": "code",
   "execution_count": 47,
   "id": "3802d7fb",
   "metadata": {},
   "outputs": [],
   "source": [
    "input = UserInput(\n",
    "    topic=\"Cách Tối Ưu Sử Dụng AI trong Marketing\",\n",
    "    documents=document,\n",
    "    language=\"vi\",\n",
    "    length=\"medium\",\n",
    "    n_section=5\n",
    ")"
   ]
  },
  {
   "cell_type": "markdown",
   "id": "47101156",
   "metadata": {},
   "source": [
    "# Outline Generation Agent"
   ]
  },
  {
   "cell_type": "markdown",
   "id": "4544102b",
   "metadata": {},
   "source": [
    "## Schema"
   ]
  },
  {
   "cell_type": "code",
   "execution_count": null,
   "id": "4d2bf2c3",
   "metadata": {},
   "outputs": [],
   "source": [
    "from pydantic import BaseModel, Field, constr\n",
    "from typing import List\n",
    "from uuid import uuid4\n",
    "class OutlineSection(BaseModel):\n",
    "    ID: str = Field(..., description=\"ID of Section\")\n",
    "    title: str = Field(..., description=\"Tiêu đề của section\")\n",
    "    content: List[str] = Field(..., description=\"Dansh sách các ý chính (bullet points) trong section\")\n",
    "    transcripts: str = Field(..., description=\"Lời thoại hoàn chỉnh cho section, được viết liền mạch\")\n",
    "\n",
    "class Outline(BaseModel):\n",
    "    ID: str = Field(..., description=\"ID of Section\")\n",
    "    title:str = Field(..., description=\"Tiêu đề chung của video/bài học\")\n",
    "    sections: List[OutlineSection] = Field(..., description=\"Danh sách các section trong bài học\")"
   ]
  },
  {
   "cell_type": "code",
   "execution_count": null,
   "id": "a39e27ec",
   "metadata": {},
   "outputs": [],
   "source": [
    "from typing_extensions import TypedDict\n",
    "\n",
    "class Scene(TypedDict):\n",
    "    ID: str \n",
    "    from_section: str\n",
    "    \n"
   ]
  },
  {
   "cell_type": "markdown",
   "id": "85b45619",
   "metadata": {},
   "source": [
    "## Prompt"
   ]
  },
  {
   "cell_type": "code",
   "execution_count": null,
   "id": "96b71867",
   "metadata": {},
   "outputs": [],
   "source": [
    "SYSTEM_PROMPT = \"\"\" \n",
    "You are an expert in creating outlines for E-Learning lectures. \n",
    "Your task is to create an outline with multi-section for an E-Learning lecture on a specific topic, in a specific language, and of a specific length. \n",
    "The response should be in JSON format \n",
    "\n",
    "\"\"\""
   ]
  },
  {
   "cell_type": "code",
   "execution_count": 86,
   "id": "8a19a5c0",
   "metadata": {},
   "outputs": [],
   "source": [
    "TASK_PROMPT = \"\"\" \n",
    "Create an outline with multi-sections for an E-Learning lecture on the topic {topic} with the language {language}. The recommended length for the lecture is {length}. Return the content in JSON format.\n",
    "\n",
    "- Rules for the overall title (Outline.title):\n",
    "    + concise (<120 characters)\n",
    "    + Clear, reflecting the entire content of the Video\n",
    "    + In the same language as UserInput.language\n",
    "    + Avoid being general like 'Lecture 1' or 'Introduction'\n",
    "- Rules for each Section:\n",
    "    + Section.ID: Inherit from Outline.ID in the format: Outline.ID + section number\n",
    "    + Section.title:\n",
    "        * Concise (<120 characters), describing the content of the entire Section.\n",
    "        * Starts with a capital letter, no punctuation at the end\n",
    "        * Does not contain ordinal numbers unless requested by the user.\n",
    "    + Section.content:\n",
    "        * Each bullet should be under 100 characters, concise but full of meaning\n",
    "        * Each section should only have 2-5 bullets.\n",
    "        * For definitions, if it can be fully presented within 500 characters, there is no need to divide it into multiple bullets\n",
    "        * The language must match UserInput.language\n",
    "    + Section.transcripts:\n",
    "        * Written as the narrator's dialogue: essay style, not reading the bullets verbatim.\n",
    "        * Must be at least 2-4 times longer than the bullets.\n",
    "        * Do not insert complex symbols.\n",
    "        * Avoid reading tables or code verbatim; instead, describe their content.\n",
    "        * Transcripts must be long enough to be read smoothly; Avoid too many short sentences in a row.\n",
    "- If the related documents are provied. Strictly follow the documents:\n",
    "{documents}{n_section}\n",
    "\"\"\""
   ]
  },
  {
   "cell_type": "code",
   "execution_count": 87,
   "id": "f1b0781d",
   "metadata": {},
   "outputs": [],
   "source": [
    "from langchain.prompts import ChatPromptTemplate\n",
    "\n",
    "OUTLINE_GENERATION_PROMPT =ChatPromptTemplate.from_template(\n",
    "    SYSTEM_PROMPT + TASK_PROMPT\n",
    ")"
   ]
  },
  {
   "cell_type": "markdown",
   "id": "3551e5e5",
   "metadata": {},
   "source": [
    "## Agent"
   ]
  },
  {
   "cell_type": "markdown",
   "id": "80a24f78",
   "metadata": {},
   "source": [
    "### Chains"
   ]
  },
  {
   "cell_type": "code",
   "execution_count": 88,
   "id": "e13190e3",
   "metadata": {},
   "outputs": [
    {
     "ename": "TypeError",
     "evalue": "'str' object is not callable",
     "output_type": "error",
     "traceback": [
      "\u001b[31m---------------------------------------------------------------------------\u001b[39m",
      "\u001b[31mTypeError\u001b[39m                                 Traceback (most recent call last)",
      "\u001b[36mCell\u001b[39m\u001b[36m \u001b[39m\u001b[32mIn[88]\u001b[39m\u001b[32m, line 2\u001b[39m\n\u001b[32m      1\u001b[39m outline_generation_chain = OUTLINE_GENERATION_PROMPT | llm.with_structured_output(Outline)\n\u001b[32m----> \u001b[39m\u001b[32m2\u001b[39m outline = \u001b[43moutline_generation_chain\u001b[49m\u001b[43m.\u001b[49m\u001b[43minvoke\u001b[49m\u001b[43m(\u001b[49m\u001b[38;5;28;43minput\u001b[39;49m\u001b[43m.\u001b[49m\u001b[43mmodel_dump\u001b[49m\u001b[43m(\u001b[49m\u001b[43m)\u001b[49m\u001b[43m)\u001b[49m\n\u001b[32m      3\u001b[39m outline\n",
      "\u001b[36mFile \u001b[39m\u001b[32md:\\ThienPV\\code\\demo\\.venv\\Lib\\site-packages\\langchain_core\\runnables\\base.py:3046\u001b[39m, in \u001b[36mRunnableSequence.invoke\u001b[39m\u001b[34m(self, input, config, **kwargs)\u001b[39m\n\u001b[32m   3044\u001b[39m                 input_ = context.run(step.invoke, input_, config, **kwargs)\n\u001b[32m   3045\u001b[39m             \u001b[38;5;28;01melse\u001b[39;00m:\n\u001b[32m-> \u001b[39m\u001b[32m3046\u001b[39m                 input_ = \u001b[43mcontext\u001b[49m\u001b[43m.\u001b[49m\u001b[43mrun\u001b[49m\u001b[43m(\u001b[49m\u001b[43mstep\u001b[49m\u001b[43m.\u001b[49m\u001b[43minvoke\u001b[49m\u001b[43m,\u001b[49m\u001b[43m \u001b[49m\u001b[43minput_\u001b[49m\u001b[43m,\u001b[49m\u001b[43m \u001b[49m\u001b[43mconfig\u001b[49m\u001b[43m)\u001b[49m\n\u001b[32m   3047\u001b[39m \u001b[38;5;66;03m# finish the root run\u001b[39;00m\n\u001b[32m   3048\u001b[39m \u001b[38;5;28;01mexcept\u001b[39;00m \u001b[38;5;167;01mBaseException\u001b[39;00m \u001b[38;5;28;01mas\u001b[39;00m e:\n",
      "\u001b[36mFile \u001b[39m\u001b[32md:\\ThienPV\\code\\demo\\.venv\\Lib\\site-packages\\langchain_core\\output_parsers\\base.py:196\u001b[39m, in \u001b[36mBaseOutputParser.invoke\u001b[39m\u001b[34m(self, input, config, **kwargs)\u001b[39m\n\u001b[32m    188\u001b[39m \u001b[38;5;129m@override\u001b[39m\n\u001b[32m    189\u001b[39m \u001b[38;5;28;01mdef\u001b[39;00m\u001b[38;5;250m \u001b[39m\u001b[34minvoke\u001b[39m(\n\u001b[32m    190\u001b[39m     \u001b[38;5;28mself\u001b[39m,\n\u001b[32m   (...)\u001b[39m\u001b[32m    193\u001b[39m     **kwargs: Any,\n\u001b[32m    194\u001b[39m ) -> T:\n\u001b[32m    195\u001b[39m     \u001b[38;5;28;01mif\u001b[39;00m \u001b[38;5;28misinstance\u001b[39m(\u001b[38;5;28minput\u001b[39m, BaseMessage):\n\u001b[32m--> \u001b[39m\u001b[32m196\u001b[39m         \u001b[38;5;28;01mreturn\u001b[39;00m \u001b[38;5;28;43mself\u001b[39;49m\u001b[43m.\u001b[49m\u001b[43m_call_with_config\u001b[49m\u001b[43m(\u001b[49m\n\u001b[32m    197\u001b[39m \u001b[43m            \u001b[49m\u001b[38;5;28;43;01mlambda\u001b[39;49;00m\u001b[43m \u001b[49m\u001b[43minner_input\u001b[49m\u001b[43m:\u001b[49m\u001b[43m \u001b[49m\u001b[38;5;28;43mself\u001b[39;49m\u001b[43m.\u001b[49m\u001b[43mparse_result\u001b[49m\u001b[43m(\u001b[49m\n\u001b[32m    198\u001b[39m \u001b[43m                \u001b[49m\u001b[43m[\u001b[49m\u001b[43mChatGeneration\u001b[49m\u001b[43m(\u001b[49m\u001b[43mmessage\u001b[49m\u001b[43m=\u001b[49m\u001b[43minner_input\u001b[49m\u001b[43m)\u001b[49m\u001b[43m]\u001b[49m\n\u001b[32m    199\u001b[39m \u001b[43m            \u001b[49m\u001b[43m)\u001b[49m\u001b[43m,\u001b[49m\n\u001b[32m    200\u001b[39m \u001b[43m            \u001b[49m\u001b[38;5;28;43minput\u001b[39;49m\u001b[43m,\u001b[49m\n\u001b[32m    201\u001b[39m \u001b[43m            \u001b[49m\u001b[43mconfig\u001b[49m\u001b[43m,\u001b[49m\n\u001b[32m    202\u001b[39m \u001b[43m            \u001b[49m\u001b[43mrun_type\u001b[49m\u001b[43m=\u001b[49m\u001b[33;43m\"\u001b[39;49m\u001b[33;43mparser\u001b[39;49m\u001b[33;43m\"\u001b[39;49m\u001b[43m,\u001b[49m\n\u001b[32m    203\u001b[39m \u001b[43m        \u001b[49m\u001b[43m)\u001b[49m\n\u001b[32m    204\u001b[39m     \u001b[38;5;28;01mreturn\u001b[39;00m \u001b[38;5;28mself\u001b[39m._call_with_config(\n\u001b[32m    205\u001b[39m         \u001b[38;5;28;01mlambda\u001b[39;00m inner_input: \u001b[38;5;28mself\u001b[39m.parse_result([Generation(text=inner_input)]),\n\u001b[32m    206\u001b[39m         \u001b[38;5;28minput\u001b[39m,\n\u001b[32m    207\u001b[39m         config,\n\u001b[32m    208\u001b[39m         run_type=\u001b[33m\"\u001b[39m\u001b[33mparser\u001b[39m\u001b[33m\"\u001b[39m,\n\u001b[32m    209\u001b[39m     )\n",
      "\u001b[36mFile \u001b[39m\u001b[32md:\\ThienPV\\code\\demo\\.venv\\Lib\\site-packages\\langchain_core\\runnables\\base.py:1939\u001b[39m, in \u001b[36mRunnable._call_with_config\u001b[39m\u001b[34m(self, func, input_, config, run_type, serialized, **kwargs)\u001b[39m\n\u001b[32m   1935\u001b[39m     child_config = patch_config(config, callbacks=run_manager.get_child())\n\u001b[32m   1936\u001b[39m     \u001b[38;5;28;01mwith\u001b[39;00m set_config_context(child_config) \u001b[38;5;28;01mas\u001b[39;00m context:\n\u001b[32m   1937\u001b[39m         output = cast(\n\u001b[32m   1938\u001b[39m             \u001b[33m\"\u001b[39m\u001b[33mOutput\u001b[39m\u001b[33m\"\u001b[39m,\n\u001b[32m-> \u001b[39m\u001b[32m1939\u001b[39m             \u001b[43mcontext\u001b[49m\u001b[43m.\u001b[49m\u001b[43mrun\u001b[49m\u001b[43m(\u001b[49m\n\u001b[32m   1940\u001b[39m \u001b[43m                \u001b[49m\u001b[43mcall_func_with_variable_args\u001b[49m\u001b[43m,\u001b[49m\u001b[43m  \u001b[49m\u001b[38;5;66;43;03m# type: ignore[arg-type]\u001b[39;49;00m\n\u001b[32m   1941\u001b[39m \u001b[43m                \u001b[49m\u001b[43mfunc\u001b[49m\u001b[43m,\u001b[49m\n\u001b[32m   1942\u001b[39m \u001b[43m                \u001b[49m\u001b[43minput_\u001b[49m\u001b[43m,\u001b[49m\n\u001b[32m   1943\u001b[39m \u001b[43m                \u001b[49m\u001b[43mconfig\u001b[49m\u001b[43m,\u001b[49m\n\u001b[32m   1944\u001b[39m \u001b[43m                \u001b[49m\u001b[43mrun_manager\u001b[49m\u001b[43m,\u001b[49m\n\u001b[32m   1945\u001b[39m \u001b[43m                \u001b[49m\u001b[43m*\u001b[49m\u001b[43m*\u001b[49m\u001b[43mkwargs\u001b[49m\u001b[43m,\u001b[49m\n\u001b[32m   1946\u001b[39m \u001b[43m            \u001b[49m\u001b[43m)\u001b[49m,\n\u001b[32m   1947\u001b[39m         )\n\u001b[32m   1948\u001b[39m \u001b[38;5;28;01mexcept\u001b[39;00m \u001b[38;5;167;01mBaseException\u001b[39;00m \u001b[38;5;28;01mas\u001b[39;00m e:\n\u001b[32m   1949\u001b[39m     run_manager.on_chain_error(e)\n",
      "\u001b[36mFile \u001b[39m\u001b[32md:\\ThienPV\\code\\demo\\.venv\\Lib\\site-packages\\langchain_core\\runnables\\config.py:429\u001b[39m, in \u001b[36mcall_func_with_variable_args\u001b[39m\u001b[34m(func, input, config, run_manager, **kwargs)\u001b[39m\n\u001b[32m    427\u001b[39m \u001b[38;5;28;01mif\u001b[39;00m run_manager \u001b[38;5;129;01mis\u001b[39;00m \u001b[38;5;129;01mnot\u001b[39;00m \u001b[38;5;28;01mNone\u001b[39;00m \u001b[38;5;129;01mand\u001b[39;00m accepts_run_manager(func):\n\u001b[32m    428\u001b[39m     kwargs[\u001b[33m\"\u001b[39m\u001b[33mrun_manager\u001b[39m\u001b[33m\"\u001b[39m] = run_manager\n\u001b[32m--> \u001b[39m\u001b[32m429\u001b[39m \u001b[38;5;28;01mreturn\u001b[39;00m \u001b[43mfunc\u001b[49m\u001b[43m(\u001b[49m\u001b[38;5;28;43minput\u001b[39;49m\u001b[43m,\u001b[49m\u001b[43m \u001b[49m\u001b[43m*\u001b[49m\u001b[43m*\u001b[49m\u001b[43mkwargs\u001b[49m\u001b[43m)\u001b[49m\n",
      "\u001b[36mFile \u001b[39m\u001b[32md:\\ThienPV\\code\\demo\\.venv\\Lib\\site-packages\\langchain_core\\output_parsers\\base.py:197\u001b[39m, in \u001b[36mBaseOutputParser.invoke.<locals>.<lambda>\u001b[39m\u001b[34m(inner_input)\u001b[39m\n\u001b[32m    188\u001b[39m \u001b[38;5;129m@override\u001b[39m\n\u001b[32m    189\u001b[39m \u001b[38;5;28;01mdef\u001b[39;00m\u001b[38;5;250m \u001b[39m\u001b[34minvoke\u001b[39m(\n\u001b[32m    190\u001b[39m     \u001b[38;5;28mself\u001b[39m,\n\u001b[32m   (...)\u001b[39m\u001b[32m    193\u001b[39m     **kwargs: Any,\n\u001b[32m    194\u001b[39m ) -> T:\n\u001b[32m    195\u001b[39m     \u001b[38;5;28;01mif\u001b[39;00m \u001b[38;5;28misinstance\u001b[39m(\u001b[38;5;28minput\u001b[39m, BaseMessage):\n\u001b[32m    196\u001b[39m         \u001b[38;5;28;01mreturn\u001b[39;00m \u001b[38;5;28mself\u001b[39m._call_with_config(\n\u001b[32m--> \u001b[39m\u001b[32m197\u001b[39m             \u001b[38;5;28;01mlambda\u001b[39;00m inner_input: \u001b[38;5;28;43mself\u001b[39;49m\u001b[43m.\u001b[49m\u001b[43mparse_result\u001b[49m\u001b[43m(\u001b[49m\n\u001b[32m    198\u001b[39m \u001b[43m                \u001b[49m\u001b[43m[\u001b[49m\u001b[43mChatGeneration\u001b[49m\u001b[43m(\u001b[49m\u001b[43mmessage\u001b[49m\u001b[43m=\u001b[49m\u001b[43minner_input\u001b[49m\u001b[43m)\u001b[49m\u001b[43m]\u001b[49m\n\u001b[32m    199\u001b[39m \u001b[43m            \u001b[49m\u001b[43m)\u001b[49m,\n\u001b[32m    200\u001b[39m             \u001b[38;5;28minput\u001b[39m,\n\u001b[32m    201\u001b[39m             config,\n\u001b[32m    202\u001b[39m             run_type=\u001b[33m\"\u001b[39m\u001b[33mparser\u001b[39m\u001b[33m\"\u001b[39m,\n\u001b[32m    203\u001b[39m         )\n\u001b[32m    204\u001b[39m     \u001b[38;5;28;01mreturn\u001b[39;00m \u001b[38;5;28mself\u001b[39m._call_with_config(\n\u001b[32m    205\u001b[39m         \u001b[38;5;28;01mlambda\u001b[39;00m inner_input: \u001b[38;5;28mself\u001b[39m.parse_result([Generation(text=inner_input)]),\n\u001b[32m    206\u001b[39m         \u001b[38;5;28minput\u001b[39m,\n\u001b[32m    207\u001b[39m         config,\n\u001b[32m    208\u001b[39m         run_type=\u001b[33m\"\u001b[39m\u001b[33mparser\u001b[39m\u001b[33m\"\u001b[39m,\n\u001b[32m    209\u001b[39m     )\n",
      "\u001b[36mFile \u001b[39m\u001b[32md:\\ThienPV\\code\\demo\\.venv\\Lib\\site-packages\\langchain_core\\output_parsers\\openai_tools.py:336\u001b[39m, in \u001b[36mPydanticToolsParser.parse_result\u001b[39m\u001b[34m(self, result, partial)\u001b[39m\n\u001b[32m    334\u001b[39m     \u001b[38;5;28;01mraise\u001b[39;00m \u001b[38;5;167;01mValueError\u001b[39;00m(msg)\n\u001b[32m    335\u001b[39m \u001b[38;5;28;01mtry\u001b[39;00m:\n\u001b[32m--> \u001b[39m\u001b[32m336\u001b[39m     pydantic_objects.append(\u001b[43mname_dict\u001b[49m\u001b[43m[\u001b[49m\u001b[43mres\u001b[49m\u001b[43m[\u001b[49m\u001b[33;43m\"\u001b[39;49m\u001b[33;43mtype\u001b[39;49m\u001b[33;43m\"\u001b[39;49m\u001b[43m]\u001b[49m\u001b[43m]\u001b[49m\u001b[43m(\u001b[49m\u001b[43m*\u001b[49m\u001b[43m*\u001b[49m\u001b[43mres\u001b[49m\u001b[43m[\u001b[49m\u001b[33;43m\"\u001b[39;49m\u001b[33;43margs\u001b[39;49m\u001b[33;43m\"\u001b[39;49m\u001b[43m]\u001b[49m\u001b[43m)\u001b[49m)\n\u001b[32m    337\u001b[39m \u001b[38;5;28;01mexcept\u001b[39;00m (ValidationError, \u001b[38;5;167;01mValueError\u001b[39;00m):\n\u001b[32m    338\u001b[39m     \u001b[38;5;28;01mif\u001b[39;00m partial:\n",
      "\u001b[36mFile \u001b[39m\u001b[32md:\\ThienPV\\code\\demo\\.venv\\Lib\\site-packages\\pydantic\\main.py:253\u001b[39m, in \u001b[36mBaseModel.__init__\u001b[39m\u001b[34m(self, **data)\u001b[39m\n\u001b[32m    251\u001b[39m \u001b[38;5;66;03m# `__tracebackhide__` tells pytest and some other tools to omit this function from tracebacks\u001b[39;00m\n\u001b[32m    252\u001b[39m __tracebackhide__ = \u001b[38;5;28;01mTrue\u001b[39;00m\n\u001b[32m--> \u001b[39m\u001b[32m253\u001b[39m validated_self = \u001b[38;5;28;43mself\u001b[39;49m\u001b[43m.\u001b[49m\u001b[43m__pydantic_validator__\u001b[49m\u001b[43m.\u001b[49m\u001b[43mvalidate_python\u001b[49m\u001b[43m(\u001b[49m\u001b[43mdata\u001b[49m\u001b[43m,\u001b[49m\u001b[43m \u001b[49m\u001b[43mself_instance\u001b[49m\u001b[43m=\u001b[49m\u001b[38;5;28;43mself\u001b[39;49m\u001b[43m)\u001b[49m\n\u001b[32m    254\u001b[39m \u001b[38;5;28;01mif\u001b[39;00m \u001b[38;5;28mself\u001b[39m \u001b[38;5;129;01mis\u001b[39;00m \u001b[38;5;129;01mnot\u001b[39;00m validated_self:\n\u001b[32m    255\u001b[39m     warnings.warn(\n\u001b[32m    256\u001b[39m         \u001b[33m'\u001b[39m\u001b[33mA custom validator is returning a value other than `self`.\u001b[39m\u001b[38;5;130;01m\\n\u001b[39;00m\u001b[33m'\u001b[39m\n\u001b[32m    257\u001b[39m         \u001b[33m\"\u001b[39m\u001b[33mReturning anything other than `self` from a top level model validator isn\u001b[39m\u001b[33m'\u001b[39m\u001b[33mt supported when validating via `__init__`.\u001b[39m\u001b[38;5;130;01m\\n\u001b[39;00m\u001b[33m\"\u001b[39m\n\u001b[32m    258\u001b[39m         \u001b[33m'\u001b[39m\u001b[33mSee the `model_validator` docs (https://docs.pydantic.dev/latest/concepts/validators/#model-validators) for more details.\u001b[39m\u001b[33m'\u001b[39m,\n\u001b[32m    259\u001b[39m         stacklevel=\u001b[32m2\u001b[39m,\n\u001b[32m    260\u001b[39m     )\n",
      "\u001b[31mTypeError\u001b[39m: 'str' object is not callable"
     ]
    }
   ],
   "source": [
    "outline_generation_chain = OUTLINE_GENERATION_PROMPT | llm.with_structured_output(Outline)\n",
    "outline = outline_generation_chain.invoke(input.model_dump())\n",
    "outline"
   ]
  },
  {
   "cell_type": "code",
   "execution_count": 81,
   "id": "45caab14",
   "metadata": {},
   "outputs": [
    {
     "name": "stdout",
     "output_type": "stream",
     "text": [
      "CÁCH TỐI ƯU SỬ DỤNG AI TRONG MARKETING\n",
      "0 ____________________________________________________________________________________________________\n",
      "Title: Giới Thiệu về AI trong Marketing\n",
      "Transcript:\n",
      "\t Trong marketing, Trí tuệ nhân tạo (AI) là việc ứng dụng các thuật toán và mô hình máy học để phân tích dữ liệu, tự động hóa quy trình, dự đoán hành vi khách hàng và tối ưu chiến lược tiếp thị. AI giúp marketer đưa ra quyết định nhanh chóng, chính xác và tiết kiệm chi phí. Theo báo cáo của MarketsandMarkets, quy mô thị trường AI trong marketing dự kiến đạt 107,5 tỷ USD vào năm 2028, tăng trưởng với tốc độ CAGR 28,6% giai đoạn 2023–2028. Điều này cho thấy nhu cầu áp dụng AI để nâng cao hiệu quả tiếp thị ngày càng tăng mạnh.\n",
      "Contents:\n",
      "\t Định nghĩa và vai trò của AI trong marketing\n",
      "\t Thống kê về sự tăng trưởng của thị trường AI marketing\n",
      "1 ____________________________________________________________________________________________________\n",
      "Title: Các Ứng Dụng Chính của AI trong Marketing\n",
      "Transcript:\n",
      "\t AI có thể xử lý hàng triệu điểm dữ liệu để dự đoán nhu cầu và hành vi khách hàng, ví dụ như Amazon gợi ý sản phẩm, đóng góp hơn 35% doanh thu. AI giúp tạo thông điệp cá nhân hóa, với 80% người tiêu dùng có nhiều khả năng mua hàng hơn khi trải nghiệm được cá nhân hóa. Các nền tảng như HubSpot, Salesforce Marketing Cloud tích hợp AI để tự động gửi email, chạy quảng cáo và điều chỉnh ngân sách. Chatbot AI có thể xử lý 80% yêu cầu hỗ trợ cơ bản, giúp tiết kiệm chi phí nhân sự. Các công cụ như ChatGPT, Jasper AI, Midjourney có thể tạo nội dung quảng cáo nhanh chóng.\n",
      "Contents:\n",
      "\t Phân tích dữ liệu và dự đoán hành vi khách hàng\n",
      "\t Cá nhân hóa nội dung và trải nghiệm\n",
      "\t Tự động hóa chiến dịch marketing\n",
      "\t Chatbot và hỗ trợ khách hàng\n",
      "\t Tạo nội dung bằng Generative AI\n",
      "2 ____________________________________________________________________________________________________\n",
      "Title: Chiến Lược Tối Ưu Sử Dụng AI trong Marketing\n",
      "Transcript:\n",
      "\t Trước khi triển khai AI, doanh nghiệp cần xác định rõ mục tiêu: tăng tỷ lệ chuyển đổi, giảm chi phí quảng cáo hay nâng cao trải nghiệm khách hàng. AI chỉ hiệu quả khi dữ liệu đầu vào sạch và đầy đủ. Doanh nghiệp nên tích hợp dữ liệu từ nhiều nguồn và làm sạch dữ liệu. Marketer cần giám sát, điều chỉnh và xác thực kết quả AI tạo ra, vì AI không thể thay thế hoàn toàn tư duy sáng tạo. Sử dụng AI để tạo nhiều phiên bản quảng cáo và chạy thử nghiệm A/B để tối ưu. Các thuật toán Machine Learning có thể dự đoán ROI của từng kênh quảng cáo, giúp phân bổ ngân sách hợp lý, có thể tăng hiệu quả chi tiêu lên 30%.\n",
      "Contents:\n",
      "\t Xác định mục tiêu rõ ràng khi triển khai AI\n",
      "\t Tập trung vào chất lượng dữ liệu đầu vào\n",
      "\t Kết hợp AI với sự giám sát của con người\n",
      "\t Thử nghiệm A/B liên tục để tối ưu\n",
      "\t Tận dụng AI để dự báo và tối ưu ngân sách\n",
      "3 ____________________________________________________________________________________________________\n",
      "Title: Rủi Ro và Cách Giảm Thiểu\n",
      "Transcript:\n",
      "\t Việc thu thập và xử lý dữ liệu khách hàng có thể vi phạm các quy định về quyền riêng tư nếu không tuân thủ. Để giảm thiểu, cần minh bạch về mục đích thu thập dữ liệu và cho phép khách hàng tùy chọn. Nếu chỉ dựa vào AI mà bỏ qua yếu tố con người, chiến dịch có thể thiếu cảm xúc và tính sáng tạo. Dùng AI như công cụ hỗ trợ, không thay thế hoàn toàn đội ngũ marketing. AI học từ dữ liệu quá khứ, nếu dữ liệu đó có thiên lệch, kết quả dự đoán cũng sẽ sai lệch. Cần kiểm tra và hiệu chỉnh mô hình thường xuyên, đa dạng hóa nguồn dữ liệu.\n",
      "Contents:\n",
      "\t Rủi ro về dữ liệu và quyền riêng tư (GDPR, CCPA)\n",
      "\t Nguy cơ quá phụ thuộc vào AI\n",
      "\t Sai lệch thuật toán (Algorithm Bias)\n",
      "\t Cách giảm thiểu các rủi ro\n",
      "4 ____________________________________________________________________________________________________\n",
      "Title: Kết Luận\n",
      "Transcript:\n",
      "\t AI đang trở thành một trợ thủ đắc lực trong marketing, giúp doanh nghiệp hiểu khách hàng sâu hơn, tối ưu chi phí, tăng tốc triển khai chiến dịch và cải thiện trải nghiệm cá nhân hóa. Để tối ưu hiệu quả, doanh nghiệp cần chiến lược dữ liệu tốt, mục tiêu rõ ràng và kết hợp AI với tư duy sáng tạo của con người. Trong bối cảnh cạnh tranh khốc liệt, những đơn vị biết khai thác sức mạnh của AI một cách thông minh sẽ nắm lợi thế lớn trên thị trường.\n",
      "Contents:\n",
      "\t Tóm tắt lợi ích của AI trong marketing\n",
      "\t Nhấn mạnh tầm quan trọng của chiến lược dữ liệu và mục tiêu rõ ràng\n",
      "\t Kêu gọi khai thác sức mạnh của AI một cách thông minh\n"
     ]
    }
   ],
   "source": [
    "def print_outline(outline):\n",
    "    print(outline.title.upper())\n",
    "    for idx, section in enumerate(outline.sections):\n",
    "        print(idx, \"_\"*100)\n",
    "        print(\"Title:\",section.title)\n",
    "        print(\"Transcript:\\n\\t\", section.transcripts)\n",
    "        print(\"Contents:\")\n",
    "        for content in section.content:\n",
    "            print(\"\\t\",content)\n",
    "print_outline(outline)"
   ]
  },
  {
   "cell_type": "code",
   "execution_count": null,
   "id": "a72d8e48",
   "metadata": {},
   "outputs": [],
   "source": []
  }
 ],
 "metadata": {
  "kernelspec": {
   "display_name": "demo (3.13.6)",
   "language": "python",
   "name": "python3"
  },
  "language_info": {
   "codemirror_mode": {
    "name": "ipython",
    "version": 3
   },
   "file_extension": ".py",
   "mimetype": "text/x-python",
   "name": "python",
   "nbconvert_exporter": "python",
   "pygments_lexer": "ipython3",
   "version": "3.13.6"
  }
 },
 "nbformat": 4,
 "nbformat_minor": 5
}
